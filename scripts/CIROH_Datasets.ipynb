{
 "cells": [
  {
   "cell_type": "markdown",
   "id": "11dad5ab",
   "metadata": {},
   "source": [
    "# CIROH Developers Conference: Hydrological Applications of ML\n",
    "### CNNs for Predicting Daily Orographic Precipitation Gradients (OPGs) for Atmospheric Downscaling"
   ]
  },
  {
   "cell_type": "markdown",
   "id": "7a6ae849",
   "metadata": {},
   "source": [
    "## Introduction to Facets and OPGs:\n",
    "\n",
    " A good place to start is familiarizing ourselves with the datasets we'll use in this workshop. We'll start with facets, precipitation, and OPGs in Northern Utah. Our formulated orographic precipitation gradients are from a climatology of the western United States created by [Bohne et al. (2020)](https://doi.org/10.1175/JHM-D-19-0229.1).\n",
    "\n",
    "- Facets are topographic regions in complex terrain defined by the same facing orientation based on a 15-rule algorithm by [Gibson et al. (1997)](https://citeseerx.ist.psu.edu/document?repid=rep1&type=pdf&doi=07e4be8943e54e3113b2dc4f4949d295ced28dee).\n",
    "\n",
    "- Precipitation observations were taken from the Global Historical Climatology Network-Daily data (GHCND).\n",
    "\n",
    "- OPGs (Orographic Precipitation Gradients) are the linear relationship between daily precipitation and elevation at each facet."
   ]
  },
  {
   "cell_type": "markdown",
   "id": "85a336f5-85e3-49a6-9327-4ad57c4e4ce4",
   "metadata": {},
   "source": [
    "##### Lets start by importing the necessary Python libraries."
   ]
  },
  {
   "cell_type": "code",
   "execution_count": null,
   "id": "435af6c2",
   "metadata": {},
   "outputs": [],
   "source": [
    "# Global imports\n",
    "# Here, Pandas will be used to load in csv datasets\n",
    "import pandas as pd \n",
    "import numpy as np \n",
    "# Atmospheric data are often put in NetCDF data \n",
    "# files, which are best opened using Xarray\n",
    "import xarray as xr \n",
    "\n",
    "# Libraries for plotting data\n",
    "from matplotlib.colors import ListedColormap\n",
    "import matplotlib.pyplot as plt\n",
    "import matplotlib.dates as mdates\n",
    "import cartopy.crs as ccrs\n",
    "import cartopy.feature as cfeat\n",
    "from datetime import datetime\n",
    "\n",
    "# You can also load in other python scripts that contain \n",
    "# functions like a Python Library. This one contains a list \n",
    "# of Colormaps for plotting\n",
    "import nclcmaps as ncm"
   ]
  },
  {
   "cell_type": "markdown",
   "id": "a755edd4-fe07-4b23-a18e-3475d01e0e82",
   "metadata": {},
   "source": [
    "##### Next, lets load in the topographic elevations, labeled facets, facet orientations, latitudes, longitudes, and OPGs."
   ]
  },
  {
   "cell_type": "code",
   "execution_count": null,
   "id": "8eeb2e59",
   "metadata": {},
   "outputs": [],
   "source": [
    "# Path to facet and opg datasets\n",
    "path = \"../datasets/facets_and_opgs/\"\n",
    "\n",
    "# Load in topographic and OPG data\n",
    "elev        = np.array(pd.read_csv(f\"{path}elevation.csv\", index_col=0))\n",
    "facets      = np.array(pd.read_csv(f\"{path}facet_labels.csv\", index_col=0))\n",
    "lats        = np.array(pd.read_csv(f\"{path}lats.csv\", index_col=0))\n",
    "lons        = np.array(pd.read_csv(f\"{path}lons.csv\", index_col=0))\n",
    "orientation = np.array(pd.read_csv(f\"{path}facet_orientation.csv\", index_col=0))\n",
    "opg         = pd.read_csv(f\"{path}winter_northernUT_opg.csv\", index_col=0)"
   ]
  },
  {
   "cell_type": "markdown",
   "id": "e870866d",
   "metadata": {},
   "source": [
    "##### Below, we'll plot the region of study for this workshop, Northern Utah, and the facets we'll be predicting OPGs for."
   ]
  },
  {
   "cell_type": "code",
   "execution_count": null,
   "id": "6e05b157",
   "metadata": {},
   "outputs": [],
   "source": [
    "# Define a custom colormap\n",
    "cmap_fi = ListedColormap([[0.0, 0.0, 0.0],[0.1428, 0.1428, 0.1428],[0.2857, 0.2857, 0.2857],\n",
    "           [0.4285, 0.4285, 0.4285],[0.5714, 0.5714, 0.5714],[0.7142, 0.7142, 0.7142],\n",
    "           [0.8571, 0.8571, 0.8571],[1.0, 1.0, 1.0]])\n",
    "\n",
    "# Set flat facets to nan to remove from plot\n",
    "orientx = orientation.astype('float')\n",
    "orientx[orientx == 9] = np.nan \n",
    "\n",
    "# Preset Variables\n",
    "extent  = [-116, -106.5, 38, 43.5] # extent of plotting window in lons then lats\n",
    "datacrs = ccrs.PlateCarree()\n",
    "\n",
    "# Create Figure\n",
    "fig = plt.figure( figsize = (10, 6))\n",
    "ax  = fig.add_axes( [0.1, 0.1, 0.8, 0.8], projection = ccrs.Mercator(central_longitude=np.mean(lons)) )\n",
    "\n",
    "# Plot Facets and Shade Them Based On Their Orientation\n",
    "pcm = ax.pcolormesh(lons, lats, orientx, cmap=cmap_fi, transform=datacrs, shading='auto')\n",
    "pcm.set_clim(0.5,8.5)\n",
    "\n",
    "# Add label on facet 2131\n",
    "plt.text(np.median(lons[facets==2131]), np.median(lats[facets==2131]), str(2131), fontsize = 10, color = 'midnightblue', \n",
    "              transform = datacrs, ha = 'center', va = 'center', bbox=dict(boxstyle=\"round\", fc=(1,1,1), linewidth=0.1))\n",
    "\n",
    "# Cartography Features\n",
    "ax.add_feature(cfeat.LAND, facecolor=\"burlywood\")\n",
    "ax.add_feature(cfeat.RIVERS.with_scale('10m'), edgecolor=\"royalblue\")\n",
    "ax.add_feature(cfeat.LAKES.with_scale('10m'), facecolor=\"dodgerblue\")\n",
    "ax.add_feature(cfeat.STATES.with_scale('10m'), edgecolor=\"saddlebrown\")\n",
    "ax.set_extent(extent)\n",
    "\n",
    "# Add colorbar\n",
    "cbar = plt.colorbar(pcm, ticks=[0,1,2,3,4,5,6,7,8,9])\n",
    "cbar.set_label(\"Orientation\", fontsize=14)\n",
    "cbar.ax.set_yticklabels(['','WSW','SSW','SSE','ESE','ENE','NNE','NNW','WNW',''])\n",
    "cbar.ax.tick_params(labelsize=12)\n",
    "\n",
    "# Save and Show Figure\n",
    "path = \"../figures/\"\n",
    "plt.savefig(f\"{path}facet_orientations.png\", dpi=200, transparent=True,  bbox_inches='tight')\n",
    "plt.show()"
   ]
  },
  {
   "cell_type": "markdown",
   "id": "a794449f-7bad-444f-b007-8896f1c2a2f1",
   "metadata": {},
   "source": [
    "##### Each of the above regions shaded from white to black are a facet. Facets are defined as regions with the same general facing orientation, determined using the [Gibson et al. (1997)](https://citeseerx.ist.psu.edu/document?repid=rep1&type=pdf&doi=07e4be8943e54e3113b2dc4f4949d295ced28dee) algorithm which evaluates the facing orientation of each gird point accounting for the orientation of its surrounding gridpoints. \n",
    "\n",
    "##### The total number of facets in our dataset is 30, but lets take a closer look at the observed OPGs found on facet 2131, which is labeled above."
   ]
  },
  {
   "cell_type": "code",
   "execution_count": null,
   "id": "61d5259a",
   "metadata": {},
   "outputs": [],
   "source": [
    "# reformat dates for plotting\n",
    "xdata = opg.index\n",
    "xdata = [datetime.strptime(x, '%Y-%m-%d') for x in xdata]\n",
    "\n",
    "# Create figure\n",
    "fig = plt.figure( figsize = (10, 4))\n",
    "ax  = fig.add_axes( [0.1, 0.1, 0.8, 0.8])\n",
    "\n",
    "# Plot OPGs as scatter plots\n",
    "plt.scatter(xdata, opg[\"2131\"], s=5)\n",
    "\n",
    "# Set labels\n",
    "plt.xlabel(\"Year\", fontsize=14)\n",
    "plt.ylabel(\"OPG (mm/m)\", fontsize=14)\n",
    "plt.title(\"Daily Observed OPG at Facet 2131\", fontsize=14)\n",
    "ax.xaxis.set_major_locator(mdates.MonthLocator(interval=30))\n",
    "ax.xaxis.set_major_formatter(mdates.DateFormatter('%Y'))\n",
    "plt.grid(True)\n",
    "\n",
    "# Save and Show Figure\n",
    "path = \"../figures/\"\n",
    "plt.savefig(f\"{path}opg_timeseries_facet2131.png\", dpi=200, transparent=True,  bbox_inches='tight')\n",
    "plt.show()"
   ]
  },
  {
   "cell_type": "markdown",
   "id": "2707c1c9-59d6-4acb-8ffc-f82173a9a904",
   "metadata": {},
   "source": [
    "##### The above plot shows a timeseries of observed OPGs on facet 2131 for only the winter months. Like most facets in this region, OPGs tend to be positive, meaning, precipitation tends to increase with elevation. "
   ]
  },
  {
   "cell_type": "code",
   "execution_count": null,
   "id": "980518ed-5676-4054-ac9a-8b74d58827c9",
   "metadata": {},
   "outputs": [],
   "source": []
  },
  {
   "cell_type": "markdown",
   "id": "1b74e3ba-2b03-460f-af11-03ff729746ee",
   "metadata": {},
   "source": [
    "## ECMWF ERA5:\n",
    "##### In the next script we will create a Convolutional Neural Network (CNN) to predict the OPGs on the above facets. To predict OPGs, we'll use the listed daily atmospheric variables formulated from the ECMWF's ERA5 dataset:\n",
    "- IVT\n",
    "- Accumulated precipitation\n",
    "- 700 hPa temperatures\n",
    "- 700 hPa U-Winds\n",
    "- 700 hPa V-Winds\n",
    "- 500 hPa geopotential heights"
   ]
  },
  {
   "cell_type": "markdown",
   "id": "770eeb21-be28-4ba0-8994-bcba4eaf8430",
   "metadata": {},
   "source": [
    "##### To get an understanding of these variables, lets plot a few days of data."
   ]
  },
  {
   "cell_type": "code",
   "execution_count": null,
   "id": "bb262b68-5a70-4381-b938-35df5763e72a",
   "metadata": {},
   "outputs": [],
   "source": [
    "# Set path to ERA5 data\n",
    "path = \"../datasets/era5_atmos/\"\n",
    "\n",
    "# Load in atmospheric data\n",
    "IVT       = xr.open_dataset(f\"{path}IVT_sfc.nc\")\n",
    "precip    = xr.open_dataset(f\"{path}precip_sfc.nc\")*1000\n",
    "temp700   = xr.open_dataset(f\"{path}temp_700.nc\")-273.15\n",
    "uwinds700 = xr.open_dataset(f\"{path}uwnd_700.nc\")\n",
    "vwinds700 = xr.open_dataset(f\"{path}vwnd_700.nc\")\n",
    "hgt500    = xr.open_dataset(f\"{path}hgt_500.nc\")/9.81"
   ]
  },
  {
   "cell_type": "markdown",
   "id": "4b8c5eeb-1319-4237-b62d-905e86792498",
   "metadata": {},
   "source": [
    "##### The atmospheric data are in NetCDF files. This file type is used because it includes information about the dataset it contains. Below, lets print what is inside of the precip file."
   ]
  },
  {
   "cell_type": "code",
   "execution_count": null,
   "id": "0ce66f69-5e6d-4311-af42-9402f3e1a2d8",
   "metadata": {},
   "outputs": [],
   "source": [
    "print(precip)"
   ]
  },
  {
   "cell_type": "markdown",
   "id": "406f25f9-a557-471e-a10d-9d919f6bbbd7",
   "metadata": {},
   "source": [
    "##### Above we first see the `Dimensions` of the dataset: Latitude, Longitude, and time. These dimension variables are listed under `Coordinates`, which allows us to easily work with the precip data. Then `Data variables` lists precip. A NetCDF file has the ability to list numerous `Data variables` of any combination of the above `Coordinates`."
   ]
  },
  {
   "cell_type": "code",
   "execution_count": null,
   "id": "8740b154-e727-4ad1-87fe-61b24f69cd10",
   "metadata": {},
   "outputs": [],
   "source": [
    "# Subset to a week of observations\n",
    "dates = ['2017-01-07', '2017-01-12']\n",
    "\n",
    "IVT       = IVT.sel(time=slice(dates[0], dates[1]))\n",
    "precip    = precip.sel(time=slice(dates[0], dates[1]))\n",
    "temp700   = temp700.sel(time=slice(dates[0], dates[1]))\n",
    "uwinds700 = uwinds700.sel(time=slice(dates[0], dates[1]))\n",
    "vwinds700 = vwinds700.sel(time=slice(dates[0], dates[1]))\n",
    "hgt500    = hgt500.sel(time=slice(dates[0], dates[1]))"
   ]
  },
  {
   "cell_type": "markdown",
   "id": "d0aad21d-c63b-4711-9ea3-76bc31ea1c4b",
   "metadata": {},
   "source": [
    "##### With an Xarray dataset, the coordinates can be used to subset the Data variables. Above, we selected atmosheric data sliced between two datetimes."
   ]
  },
  {
   "cell_type": "code",
   "execution_count": null,
   "id": "dacf79cc-c570-400f-ad2b-deb392a5ea80",
   "metadata": {},
   "outputs": [],
   "source": [
    "# plotting\n",
    "\n",
    "# Plot Transforms\n",
    "datacrs = ccrs.PlateCarree()\n",
    "projex  = ccrs.Mercator(central_longitude=np.mean(lons))\n",
    "extent  = [-119, -106, 36, 45]\n",
    "\n",
    "# Loop through each day\n",
    "for dayx in range(len(IVT.time.values)):\n",
    "    \n",
    "    # Create figure\n",
    "    fig, axs = plt.subplots(2, 3, figsize = (6, 4), subplot_kw={'projection': projex})\n",
    "    fig.tight_layout()\n",
    "    \n",
    "    # Plot contourf and contour plots\n",
    "    ivt_cbar = axs[0, 0].contourf(IVT.longitude, IVT.latitude, IVT.IVT.values[dayx,:,:], cmap=ncm.cmap('WhiteYellowOrangeRed'), \n",
    "                                  levels=np.arange(100, 500, 50), extend='max', transform=datacrs)\n",
    "    cs       = axs[0, 1].contour(hgt500.longitude, hgt500.latitude, hgt500.hgt.values[dayx,:,:], colors='black', \n",
    "                                 levels=np.arange(5160, 5880, 60), transform=datacrs)\n",
    "    pr_cbar  = axs[0, 2].contourf(precip.longitude, precip.latitude, precip.precip.values[dayx,:,:], \n",
    "                                  cmap=ncm.cmapDiscrete('prcp_2', indexList=np.arange(1,12)), levels=np.arange(0.5, 12, 0.5), \n",
    "                                  extend='max', transform=datacrs)\n",
    "    u_cbar   = axs[1, 0].contourf(uwinds700.longitude, uwinds700.latitude, uwinds700.uwnd.values[dayx,:,:], \n",
    "                                  cmap=ncm.cmap('MPL_RdBu', True), levels=np.arange(-30, 30+1, 5), transform=datacrs)\n",
    "    v_cbar   = axs[1, 1].contourf(vwinds700.longitude, vwinds700.latitude, vwinds700.vwnd.values[dayx,:,:], \n",
    "                                  cmap=ncm.cmap('MPL_RdBu', True), levels=np.arange(-30, 30+1, 5), transform=datacrs)\n",
    "    tmp_cbar = axs[1, 2].contourf(temp700.longitude, temp700.latitude, temp700.temp.values[dayx,:,:], \n",
    "                                  cmap=ncm.cmap('NCV_jet'), levels=np.arange(-18, 12+2, 2), transform=datacrs)\n",
    "\n",
    "    # Add wind barbs\n",
    "    u700 = uwinds700.uwnd.values[dayx,::5,::5] * 1.94384  \n",
    "    v700 = vwinds700.vwnd.values[dayx,::5,::5] * 1.94384\n",
    "    axs[1, 0].barbs(uwinds700.longitude[::5], uwinds700.latitude[::5], u700, v700, length=6, pivot='middle', transform=datacrs)\n",
    "    axs[1, 1].barbs(uwinds700.longitude[::5], uwinds700.latitude[::5], u700, v700, length=6, pivot='middle', transform=datacrs)\n",
    "    \n",
    "    # Set titles\n",
    "    axs[0, 0].set_title(\"IVT ($kg m^{-1} s^{-1}$)\")  \n",
    "    axs[0, 1].set_title(\"500 hPa Geo. Hgts\")\n",
    "    axs[0, 2].set_title(\"Accum. Precip. ($mm$)\")\n",
    "    axs[1, 0].set_title(\"700 hPa U-Wind ($m/s$)\")\n",
    "    axs[1, 1].set_title(\"700 hPa V-Wind ($m/s$)\")\n",
    "    axs[1, 2].set_title(\"700 hPa Temp. ($^\\circ$C)\")\n",
    "\n",
    "    # Plot 500 hPa geopotential height contour labels\n",
    "    axs[0, 1].clabel(cs, fmt=\"%d\", inline = True)\n",
    "    \n",
    "    # Add Cartogrphy\n",
    "    for row in range(2):\n",
    "        for col in range(3):\n",
    "            axs[row,col].add_feature(cfeat.LAND, facecolor=\"burlywood\")\n",
    "            axs[row,col].add_feature(cfeat.RIVERS.with_scale('10m'), edgecolor=\"royalblue\")\n",
    "            axs[row,col].add_feature(cfeat.LAKES.with_scale('10m'), facecolor=\"dodgerblue\")\n",
    "            axs[row,col].add_feature(cfeat.STATES.with_scale('10m'), edgecolor=\"saddlebrown\")\n",
    "            axs[row,col].set_extent(extent)\n",
    "\n",
    "    # Add colorbars\n",
    "    cx_ivt = fig.add_axes([-0.01, 0.55, 0.03, 0.40])\n",
    "    fig.colorbar(ivt_cbar, cax=cx_ivt, ticks=np.arange(100, 500, 100), orientation='vertical', location='left')\n",
    "\n",
    "    cx_u = fig.add_axes([-0.01, 0.05, 0.03, 0.40])\n",
    "    fig.colorbar(u_cbar, cax=cx_u, ticks=np.arange(-30, 30+1, 10), orientation='vertical', location='left')\n",
    "\n",
    "    cx_tmp = fig.add_axes([0.98, 0.05, 0.03, 0.40])\n",
    "    fig.colorbar(tmp_cbar, cax=cx_tmp, ticks=np.arange(-24, 24, 8), orientation='vertical', location='right')\n",
    "\n",
    "    cx_pr = fig.add_axes([0.98, 0.55, 0.03, 0.40])\n",
    "    fig.colorbar(pr_cbar, cax=cx_pr, ticks=np.arange(0.5, 12, 2), orientation='vertical', location='right')\n",
    "\n",
    "    # adjust plot\n",
    "    plt.subplots_adjust(wspace=0, hspace=0.2)\n",
    "    datex = np.datetime_as_string(IVT.time.values[dayx], unit=\"D\")\n",
    "    plt.suptitle(datex, y=1.06, weight='bold')\n",
    "\n",
    "    # Save and show figure\n",
    "    path = \"../figures/\"\n",
    "    plt.savefig(f\"{path}atmos_{datex}.png\", dpi=200, transparent=True,  bbox_inches='tight')\n",
    "    plt.show()\n",
    "\n"
   ]
  },
  {
   "cell_type": "markdown",
   "id": "c455ba2f-d89f-4e4c-bd40-c59f24d15bd0",
   "metadata": {},
   "source": [
    "##### The above plots display the 6 predictor variables we will use today to predict OPGs in Northern Utah. These variables are highly correlated with precipitation events. IVT (integrated vapor transport) is the volumetric amount of water transported, accumulated precipitation tends to have the strongest correlation to OPG, 700 hPa temperature, U-winds, V-winds, and 500 hPa geopotential heights are used to evaluate the large scale structure of the atmosphere.\n"
   ]
  },
  {
   "cell_type": "code",
   "execution_count": null,
   "id": "1ef417b7-9b31-4684-99ae-866c7c97bdda",
   "metadata": {},
   "outputs": [],
   "source": []
  }
 ],
 "metadata": {
  "kernelspec": {
   "display_name": "Python 3 (ipykernel)",
   "language": "python",
   "name": "python3"
  },
  "language_info": {
   "codemirror_mode": {
    "name": "ipython",
    "version": 3
   },
   "file_extension": ".py",
   "mimetype": "text/x-python",
   "name": "python",
   "nbconvert_exporter": "python",
   "pygments_lexer": "ipython3",
   "version": "3.11.2"
  }
 },
 "nbformat": 4,
 "nbformat_minor": 5
}
