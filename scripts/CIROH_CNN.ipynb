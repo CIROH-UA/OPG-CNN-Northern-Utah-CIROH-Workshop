{
 "cells": [
  {
   "cell_type": "markdown",
   "metadata": {},
   "source": [
    "# CIROH Developers Conference: Hydrological Applications of ML\n",
    "### CNNs for Predicting Daily Orographic Precipitation Gradients (OPGs) for Atmospheric Downscaling"
   ]
  },
  {
   "cell_type": "markdown",
   "metadata": {},
   "source": [
    "## Introduction\n",
    "\n",
    "In this exercise, we'll build a convolutional neural network (CNN) for regression of orographic precipitation gradients of Northern Utah. Other uses include:\n",
    "\n",
    "- Image classification\n",
    "- Image denoising or reconstruction\n",
    "\n",
    "But all methods are based around two basic operations: \n",
    "\n",
    "- Convolution: in this step, the network learns a series of kernels or filters that transform the original image in some way. These are similar to filters that are used in standard image processing (e.g. low-pass filters), but filters are chosen by how well the transformed image maps to the outcome variable. To put this another way, these filters identify shapes or features that are important in differentiating between different outcomes\n",
    "- Max-pooling: in this step, the image resolution is transformed. In general, the resolution is halved, by aggregating groups of four pixels in a two by two window. \n",
    "\n",
    "In general, these steps are repeated several times. As this progresses, the small shapes identified in the first set of convolutions are progressively combined into larger structures. For example, a series of small curves or lines could be aggregated into a cat's eye.\n"
   ]
  },
  {
   "cell_type": "markdown",
   "metadata": {},
   "source": [
    "## Data processing\n",
    "##### Let's start, as usual, by loading the libraries we'll need for the lab:"
   ]
  },
  {
   "cell_type": "code",
   "execution_count": 1,
   "metadata": {},
   "outputs": [],
   "source": [
    "# Data manipulation\n",
    "# Here, Pandas will be used to load in csv datasets\n",
    "import pandas as pd\n",
    "import numpy as np\n",
    "# Atmospheric data are often put in NetCDF data \n",
    "# files, which are best opened using Xarray\n",
    "import xarray as xr\n",
    "\n",
    "# Plotting\n",
    "import matplotlib.pyplot as plt\n",
    "from matplotlib import colors\n",
    "\n",
    "# You can also load in other python scripts that contain \n",
    "# functions like a Python Library. This one contains a list \n",
    "# of Colormaps for plotting\n",
    "import nclcmaps as ncm"
   ]
  },
  {
   "cell_type": "markdown",
   "metadata": {},
   "source": [
    "##### Now we set the path to the data folders and download the datasets. If you have any questions about setting this path, please ask. "
   ]
  },
  {
   "cell_type": "code",
   "execution_count": 2,
   "metadata": {},
   "outputs": [],
   "source": [
    "# load in the atmospheric data\n",
    "path      = \"../datasets/era5_atmos/\"\n",
    "IVT       = xr.open_dataset(f\"{path}IVT_sfc.nc\")\n",
    "precip    = xr.open_dataset(f\"{path}precip_sfc.nc\")*1000\n",
    "temp700   = xr.open_dataset(f\"{path}temp_700.nc\")-273.15\n",
    "uwinds700 = xr.open_dataset(f\"{path}uwnd_700.nc\")\n",
    "vwinds700 = xr.open_dataset(f\"{path}vwnd_700.nc\")\n",
    "hgt500    = xr.open_dataset(f\"{path}hgt_500.nc\")/9.81"
   ]
  },
  {
   "cell_type": "markdown",
   "metadata": {},
   "source": [
    "##### The atmospheric data are in NetCDF files. This file type is used because it includes information about the dataset it contains. Below, lets print what is inside of the precip file."
   ]
  },
  {
   "cell_type": "code",
   "execution_count": 3,
   "metadata": {},
   "outputs": [
    {
     "name": "stdout",
     "output_type": "stream",
     "text": [
      "<xarray.Dataset>\n",
      "Dimensions:    (latitude: 19, longitude: 27, time: 2708)\n",
      "Coordinates:\n",
      "  * latitude   (latitude) float32 36.0 36.5 37.0 37.5 ... 43.5 44.0 44.5 45.0\n",
      "  * longitude  (longitude) float32 -119.0 -118.5 -118.0 ... -107.0 -106.5 -106.0\n",
      "  * time       (time) datetime64[ns] 1988-01-01 1988-01-02 ... 2017-12-31\n",
      "Data variables:\n",
      "    precip     (time, latitude, longitude) float32 0.02396 0.0 ... 0.09616\n"
     ]
    }
   ],
   "source": [
    "print(precip)"
   ]
  },
  {
   "cell_type": "markdown",
   "metadata": {},
   "source": [
    "##### Above we first see the `Dimentions` of the dataset: Latitude, Longitude, and time. These dimention variables are listed under `Coordinates`, which allows us to easily work with the precip data. Then `Data variables` lists precip. A NetCDF file has the ability to list numerous `Data variables` of any combination of the above `Coordinates`."
   ]
  },
  {
   "cell_type": "code",
   "execution_count": 4,
   "metadata": {},
   "outputs": [
    {
     "name": "stdout",
     "output_type": "stream",
     "text": [
      "                 157       158       165  186       422  449  648       675  \\\n",
      "1988-01-01  0.001612       NaN -0.005168  NaN       NaN  NaN  NaN  0.002508   \n",
      "1988-01-02  0.000298 -0.000164       NaN  NaN       NaN  NaN  NaN -0.000124   \n",
      "1988-01-03  0.000298       NaN  0.002487  NaN       NaN  NaN  NaN       NaN   \n",
      "1988-01-04 -0.001908 -0.005142  0.008526  NaN  0.003778  NaN  NaN  0.005926   \n",
      "1988-01-05  0.005015  0.005436  0.001784  NaN  0.025238  NaN  NaN  0.004058   \n",
      "...              ...       ...       ...  ...       ...  ...  ...       ...   \n",
      "2017-12-27       NaN       NaN  0.004317  NaN       NaN  NaN  NaN       NaN   \n",
      "2017-12-28       NaN       NaN       NaN  NaN       NaN  NaN  NaN       NaN   \n",
      "2017-12-29       NaN       NaN       NaN  NaN       NaN  NaN  NaN       NaN   \n",
      "2017-12-30       NaN       NaN       NaN  NaN       NaN  NaN  NaN       NaN   \n",
      "2017-12-31       NaN       NaN       NaN  NaN       NaN  NaN  NaN       NaN   \n",
      "\n",
      "                 685       704  ...      1842      1850      1860      2085  \\\n",
      "1988-01-01       NaN       NaN  ...       NaN -0.000021  0.000458       NaN   \n",
      "1988-01-02       NaN       NaN  ...       NaN       NaN       NaN  0.002894   \n",
      "1988-01-03  0.000418       NaN  ...       NaN  0.001575  0.001132  0.010064   \n",
      "1988-01-04  0.000863       NaN  ... -0.004870 -0.000186  0.009315  0.007289   \n",
      "1988-01-05  0.000138 -0.006763  ...  0.008975  0.002302  0.005890  0.014634   \n",
      "...              ...       ...  ...       ...       ...       ...       ...   \n",
      "2017-12-27       NaN       NaN  ...       NaN       NaN  0.003309       NaN   \n",
      "2017-12-28       NaN       NaN  ...       NaN       NaN       NaN       NaN   \n",
      "2017-12-29       NaN       NaN  ...       NaN       NaN       NaN       NaN   \n",
      "2017-12-30       NaN       NaN  ...       NaN       NaN       NaN       NaN   \n",
      "2017-12-31       NaN       NaN  ...       NaN       NaN       NaN       NaN   \n",
      "\n",
      "                2120      2131      2150  2269      2273      2292  \n",
      "1988-01-01  0.000729  0.000192       NaN   NaN       NaN  0.000877  \n",
      "1988-01-02  0.000312 -0.000063  0.005345   NaN       NaN  0.000338  \n",
      "1988-01-03  0.000787  0.000724       NaN   NaN       NaN  0.000716  \n",
      "1988-01-04  0.000680  0.000472  0.005421   NaN  0.004060  0.003508  \n",
      "1988-01-05  0.005383  0.001377  0.004465   NaN -0.003098 -0.000855  \n",
      "...              ...       ...       ...   ...       ...       ...  \n",
      "2017-12-27       NaN       NaN       NaN   NaN       NaN  0.002265  \n",
      "2017-12-28       NaN       NaN       NaN   NaN       NaN       NaN  \n",
      "2017-12-29       NaN       NaN       NaN   NaN       NaN       NaN  \n",
      "2017-12-30       NaN       NaN       NaN   NaN       NaN       NaN  \n",
      "2017-12-31       NaN       NaN       NaN   NaN       NaN       NaN  \n",
      "\n",
      "[2708 rows x 30 columns]\n"
     ]
    }
   ],
   "source": [
    "# load in the OPGs\n",
    "path = \"../datasets/facets_and_opgs/\"\n",
    "opg  = pd.read_csv(f\"{path}winter_northernUT_opg.csv\", index_col=0)\n",
    "print(opg)"
   ]
  },
  {
   "cell_type": "markdown",
   "metadata": {},
   "source": [
    "##### Above shows the opg file when opened using the Pandas library. It contains an index of winter season dates from 1988 to 2017 and the column headers are each facet's identification number. Within the file are the observed OPGs. For days without precipitation or an OPG obsservation due to mesonet station counts, the value is set to NaN."
   ]
  },
  {
   "cell_type": "markdown",
   "metadata": {},
   "source": [
    "#### Standardizing the Datasets:\n",
    "\n",
    "##### Since the values between the atmospheric variables contain a large variability in scale, we standardize each variable individually. This levels the playing field, so to speak, so that all atmospheric variables are taken into account within the CNN. This also applies to the facet OPGs, as a machine learning model is better equipted predicting values between -1 and 1.\n",
    "\n",
    "##### In other cases, you may prefer to normalize the datasets. "
   ]
  },
  {
   "cell_type": "code",
   "execution_count": 5,
   "metadata": {},
   "outputs": [],
   "source": [
    "# Standardize the atmospheric data\n",
    "\n",
    "# With Xarray datasets, operations are available to be applied along \n",
    "# existing dimensions by name. Here we are able to formulate the \n",
    "# mean and standard deviation along the time dimension. If you're \n",
    "# curious to see what other function operations that can be applied, \n",
    "# go to this link: https://docs.xarray.dev/en/stable/api.html\n",
    "IVT       = (IVT - IVT.mean(dim=\"time\")) / IVT.std(dim=\"time\")\n",
    "precip    = (precip - precip.mean(dim=\"time\")) / precip.std(dim=\"time\")\n",
    "temp700   = (temp700 - temp700.mean(dim=\"time\")) / temp700.std(dim=\"time\")\n",
    "uwinds700 = (uwinds700 - uwinds700.mean(dim=\"time\")) / uwinds700.std(dim=\"time\")\n",
    "vwinds700 = (vwinds700 - vwinds700.mean(dim=\"time\")) / vwinds700.std(dim=\"time\")\n",
    "hgt500    = (hgt500 - hgt500.mean(dim=\"time\")) / hgt500.std(dim=\"time\")\n",
    "\n",
    "# extract the facet list and the OPG values\n",
    "facet_list = opg.columns.values\n",
    "opg = opg.values\n",
    "\n",
    "# Standardize the OPGs\n",
    "# We are saving the OPG mean and standard deviation so that \n",
    "# we can convert the predicted standardized values back to the \n",
    "# true OPG values later on\n",
    "opg_mean = np.nanmean(opg, axis=0)\n",
    "opg_std  = np.nanstd(opg, axis=0)\n",
    "opg = (opg - opg_mean) / opg_std"
   ]
  },
  {
   "cell_type": "markdown",
   "metadata": {},
   "source": [
    "##### Unique to the OPG dataset, for days without precipitation, the value within the array are NaNs. However, machine learning algoirthms of this architecture are unable to predict NaN as an output. Therefore, days without observations are set to zero, as it is the average value of the dataset.\n",
    "\n",
    "##### In classification tasks, the missing values are often set to a new catagory."
   ]
  },
  {
   "cell_type": "code",
   "execution_count": 6,
   "metadata": {},
   "outputs": [],
   "source": [
    "opg[np.isnan(opg)] = 0"
   ]
  },
  {
   "cell_type": "markdown",
   "metadata": {},
   "source": [
    "##### To input the atmospheric data into the CNN model, the atmospheric variables are combined into one array. Additionally, when working with Tensorflow, all datasets need to be either NumPy or Tensorflow Tensors."
   ]
  },
  {
   "cell_type": "code",
   "execution_count": 7,
   "metadata": {},
   "outputs": [
    {
     "name": "stdout",
     "output_type": "stream",
     "text": [
      "(2708, 19, 27, 6)\n"
     ]
    }
   ],
   "source": [
    "# Combine the atmospheric data into one array\n",
    "atmos = np.concatenate((IVT.IVT.values[...,np.newaxis], \n",
    "                        precip.precip.values[...,np.newaxis],\n",
    "                        temp700.temp.values[...,np.newaxis],\n",
    "                        uwinds700.uwnd.values[...,np.newaxis],\n",
    "                        vwinds700.vwnd.values[...,np.newaxis],\n",
    "                        hgt500.hgt.values[...,np.newaxis]), axis=3)\n",
    "print(np.shape(atmos))"
   ]
  },
  {
   "cell_type": "markdown",
   "metadata": {},
   "source": [
    "##### The above output lists the dimensions of all the atmospheric variables combined. It contains 2708 observation days or 'images', with a 19 x 27 grid of latitudes and longitudes. Each atmospheric variable represents a channel, here we have 6 channels. \n",
    "\n",
    "##### Channels can be viewed as layers of the image. For example, when using visual images of RGB colors, there would be 3 channels. \n",
    "\n",
    "##### CNNs are not limited only to images of shape `(samples, height, width, channels)`, CNNs can be used to evaluate vector data `(samples, features)`, timeseries data `(samples, timesteps, features)`, and video data `(samples, frames, height, width, channels)`."
   ]
  },
  {
   "cell_type": "code",
   "execution_count": 8,
   "metadata": {},
   "outputs": [],
   "source": [
    "latitude  = 19 # height\n",
    "longitude = 27 # width\n",
    "channels  = 6  # channel"
   ]
  },
  {
   "cell_type": "markdown",
   "metadata": {},
   "source": [
    "##### When creating a ML model, the datasets are split into training, validation, and testing subsets. The model is trained on the training subset, evaluated on the validation subset, and tested on the testing subset. \n",
    "\n",
    "##### These datasets are often randomly shuffled to produce training, validation, and testing subsets. If redundency exists in your dataset, or in our case, multipday precipitation events, it can be important to split the subsets differently. Such as by week, months, or years. \n",
    "\n",
    "##### Here, we'll split these datasets at random using a 70/15/15% split."
   ]
  },
  {
   "cell_type": "code",
   "execution_count": 9,
   "metadata": {},
   "outputs": [
    {
     "name": "stdout",
     "output_type": "stream",
     "text": [
      "(406, 19, 27, 6)\n"
     ]
    }
   ],
   "source": [
    "np.random.seed(42)\n",
    "rand_ind = np.random.permutation(np.arange(np.shape(atmos)[0]))\n",
    "\n",
    "train_atmos = atmos[rand_ind[:1896], ...]\n",
    "test_atmos  = atmos[rand_ind[1896:2302], ...]\n",
    "val_atmos   = atmos[rand_ind[2302:], ...]\n",
    "\n",
    "train_opg = opg[rand_ind[:1896], ...]\n",
    "test_opg  = opg[rand_ind[1896:2302], ...]\n",
    "val_opg   = opg[rand_ind[2302:], ...]\n",
    "\n",
    "print(np.shape(test_atmos))"
   ]
  },
  {
   "cell_type": "markdown",
   "metadata": {},
   "source": [
    "##### The last parameter we'll set here is the batch size. This parameter controls how many samples are processed in training simultaneously, typically between 8 and 128. The dataset is separated into batches, processed by the model, and the weights within the model are adjusted. Once all batches are processed, one epoch has been completed.\n",
    "\n",
    "##### This also controls how much memory is used per step of training, which is very useful if you're training on a computer with limited memory."
   ]
  },
  {
   "cell_type": "code",
   "execution_count": 10,
   "metadata": {},
   "outputs": [],
   "source": [
    "batch_size = 32"
   ]
  },
  {
   "cell_type": "markdown",
   "metadata": {},
   "source": [
    "## Create CNN Model\n",
    "\n",
    "##### Let's now set up the model. As this is quite a complex model, we'll do this as a series of steps rather than in one go. First, import all the modules from Tensorflow Keras that we'll need:"
   ]
  },
  {
   "cell_type": "code",
   "execution_count": 23,
   "metadata": {},
   "outputs": [],
   "source": [
    "# Here we load in a function to allow us to Sequentially build the CNN architecture\n",
    "from tensorflow.keras.models import Sequential\n",
    "# Here we load in the CNN layers\n",
    "from tensorflow.keras.layers import (Input, Conv2D, Dense, ReLU, BatchNormalization, \n",
    "                                     MaxPooling2D, Dropout, Flatten)\n",
    "# Here we load in the optimizer we will use\n",
    "from tensorflow.keras.optimizers import RMSprop\n",
    "from tensorflow.keras.callbacks import EarlyStopping"
   ]
  },
  {
   "cell_type": "markdown",
   "metadata": {},
   "source": [
    "##### Now, create a template sequential model, this way we can build the model incrementally:"
   ]
  },
  {
   "cell_type": "code",
   "execution_count": 24,
   "metadata": {},
   "outputs": [],
   "source": [
    "model = Sequential()"
   ]
  },
  {
   "cell_type": "markdown",
   "metadata": {},
   "source": [
    "##### First, we'll use `InputLayer` to declare the shape of the input data. Notice that we care about the entire input set, not the batch size."
   ]
  },
  {
   "cell_type": "code",
   "execution_count": 25,
   "metadata": {},
   "outputs": [],
   "source": [
    "model.add(Input(shape=(latitude, longitude, channels)))"
   ]
  },
  {
   "cell_type": "markdown",
   "metadata": {},
   "source": [
    "##### Next we add the first hidden layer, `Conv2D`. This is a convolutional layer, where we'll create 16 filters (or convolutions) based on the original images, with a 3x3 kernel. We'll add padding to the input of the `Conv2D` layer, this adds the appropriate number of rows and columns around the input image so that the output image is the `same` height and width."
   ]
  },
  {
   "cell_type": "code",
   "execution_count": 26,
   "metadata": {},
   "outputs": [],
   "source": [
    "model.add(Conv2D(filters = 16, kernel_size = (3,3), padding = 'same'))"
   ]
  },
  {
   "cell_type": "markdown",
   "metadata": {},
   "source": [
    "##### We'll then take the output of this layer and pass it through a `ReLU()` activation function (this could have been included directly in the convolutional layer, but this allows a little more control on the process):"
   ]
  },
  {
   "cell_type": "code",
   "execution_count": 27,
   "metadata": {},
   "outputs": [],
   "source": [
    "model.add(ReLU())"
   ]
  },
  {
   "cell_type": "markdown",
   "metadata": {},
   "source": [
    "##### Now, we add a `MaxPooling2D` layer. As a reminder, this reduces the resolution of the output from the previous layer by a simple filter, forcing the next layer of the network to focus on larger image features. We'll also add a `Dropout` layer. This is a form of regularization. It randomly sets some connection weights to 0 (i.e. having no contribution to the model), which can reduce overfitting."
   ]
  },
  {
   "cell_type": "code",
   "execution_count": 28,
   "metadata": {},
   "outputs": [],
   "source": [
    "model.add(MaxPooling2D(pool_size = (2,2)))\n",
    "model.add(Dropout(.25))"
   ]
  },
  {
   "cell_type": "markdown",
   "metadata": {},
   "source": [
    "##### Let's add another convolutional layer, this time with 32 filters, and pass this through a ReLU activation function."
   ]
  },
  {
   "cell_type": "code",
   "execution_count": 29,
   "metadata": {},
   "outputs": [],
   "source": [
    "model.add(Conv2D(filters = 32, kernel_size = (3,3), padding = 'same'))\n",
    "model.add(ReLU())"
   ]
  },
  {
   "cell_type": "markdown",
   "metadata": {},
   "source": [
    "##### We'll take the output of this function and normalize the weights. This is a simple method that adjusts the mean weight to close to zero and reduces the amount of variation. This helps avoid gradient problems with very small or very large weights"
   ]
  },
  {
   "cell_type": "code",
   "execution_count": 30,
   "metadata": {},
   "outputs": [],
   "source": [
    "model.add(BatchNormalization())"
   ]
  },
  {
   "cell_type": "markdown",
   "metadata": {},
   "source": [
    "##### And we'll run the output of this through a max-pooling function with dropout:"
   ]
  },
  {
   "cell_type": "code",
   "execution_count": 31,
   "metadata": {},
   "outputs": [],
   "source": [
    "model.add(MaxPooling2D(pool_size = (2,2)))\n",
    "model.add(Dropout(.25))"
   ]
  },
  {
   "cell_type": "markdown",
   "metadata": {},
   "source": [
    "##### Now we'll add layers to connect the output of this last `MaxPooling2D` step to the output (the OPGs). The first thing we need to do is to `Flatten()` the output. The output of the max-pooling is a tensor of shape (4, 6, 32). The size of 4x5 is a result of the two max-pooling operations and the 32 is the number of filters from the second convolution. The `Flatten()` function will flatten this into a rank 1 tensor of shape (768). "
   ]
  },
  {
   "cell_type": "code",
   "execution_count": 32,
   "metadata": {},
   "outputs": [],
   "source": [
    "model.add(Flatten())"
   ]
  },
  {
   "cell_type": "markdown",
   "metadata": {},
   "source": [
    "##### Next we'll pass this flattened layer through a `Dense()` layer, which are densely conncted neural layers. And then through `ReLU()` activation and a dropout"
   ]
  },
  {
   "cell_type": "code",
   "execution_count": 33,
   "metadata": {},
   "outputs": [],
   "source": [
    "model.add(Dense(units = 100))\n",
    "model.add(ReLU())\n",
    "\n",
    "model.add(Dense(units = 100))\n",
    "model.add(ReLU())\n",
    "\n",
    "model.add(Dropout(.25))"
   ]
  },
  {
   "cell_type": "markdown",
   "metadata": {},
   "source": [
    "##### Finally, we need to output predictions. As this is a regression task, the final layer needs to have the same number of nodes as northern Utah facets, and the output is passed through a linear activation function. Linear activation functions are typically used whe you're trying to predict continuous values."
   ]
  },
  {
   "cell_type": "code",
   "execution_count": 34,
   "metadata": {},
   "outputs": [],
   "source": [
    "model.add(Dense(units = len(facet_list), activation = 'linear'))"
   ]
  },
  {
   "cell_type": "markdown",
   "metadata": {},
   "source": [
    "##### More practically, we'll create a function that will build the model in one go. This will allow us to easily create new versions for testing. "
   ]
  },
  {
   "cell_type": "code",
   "execution_count": 35,
   "metadata": {},
   "outputs": [],
   "source": [
    "def create_model():\n",
    "    model = Sequential([  \n",
    "        Input(shape=(latitude, longitude, channels), name='input'),\n",
    "        Conv2D(filters = 16, kernel_size = (3,3), padding = 'same', activation = 'relu', name='Convolution_01'),\n",
    "        MaxPooling2D(pool_size = (2,2), name='Max_Pooling_01'),\n",
    "        Dropout(.25),\n",
    "        Conv2D(filters = 32, kernel_size = (3,3), padding = 'same', activation = 'relu', name='Convolution_02'),\n",
    "        BatchNormalization(name='Batch_Normalization'),\n",
    "        MaxPooling2D(pool_size = (2,2), name='Max_Pooling_02'),\n",
    "        Dropout(.25),\n",
    "        Flatten(),\n",
    "        Dense(units = 100, activation = 'relu', name='Hidden_Layer_01'),\n",
    "        Dense(units = 100, activation = 'relu', name='Hidden_Layer_02'),\n",
    "        Dropout(.25),\n",
    "        Dense(units = len(facet_list), activation = 'linear', name='Output')\n",
    "    ])\n",
    "    return model"
   ]
  },
  {
   "cell_type": "markdown",
   "metadata": {},
   "source": [
    "##### Let's take a look at the whole thing:"
   ]
  },
  {
   "cell_type": "code",
   "execution_count": 36,
   "metadata": {},
   "outputs": [
    {
     "name": "stdout",
     "output_type": "stream",
     "text": [
      "Model: \"sequential_2\"\n",
      "_________________________________________________________________\n",
      " Layer (type)                Output Shape              Param #   \n",
      "=================================================================\n",
      " Convolution_01 (Conv2D)     (None, 19, 27, 16)        880       \n",
      "                                                                 \n",
      " Max_Pooling_01 (MaxPooling  (None, 9, 13, 16)         0         \n",
      " 2D)                                                             \n",
      "                                                                 \n",
      " dropout_3 (Dropout)         (None, 9, 13, 16)         0         \n",
      "                                                                 \n",
      " Convolution_02 (Conv2D)     (None, 9, 13, 32)         4640      \n",
      "                                                                 \n",
      " Batch_Normalization (Batch  (None, 9, 13, 32)         128       \n",
      " Normalization)                                                  \n",
      "                                                                 \n",
      " Max_Pooling_02 (MaxPooling  (None, 4, 6, 32)          0         \n",
      " 2D)                                                             \n",
      "                                                                 \n",
      " dropout_4 (Dropout)         (None, 4, 6, 32)          0         \n",
      "                                                                 \n",
      " flatten_1 (Flatten)         (None, 768)               0         \n",
      "                                                                 \n",
      " Hidden_Layer_01 (Dense)     (None, 100)               76900     \n",
      "                                                                 \n",
      " Hidden_Layer_02 (Dense)     (None, 100)               10100     \n",
      "                                                                 \n",
      " dropout_5 (Dropout)         (None, 100)               0         \n",
      "                                                                 \n",
      " Output (Dense)              (None, 30)                3030      \n",
      "                                                                 \n",
      "=================================================================\n",
      "Total params: 95678 (373.74 KB)\n",
      "Trainable params: 95614 (373.49 KB)\n",
      "Non-trainable params: 64 (256.00 Byte)\n",
      "_________________________________________________________________\n"
     ]
    }
   ],
   "source": [
    "model = create_model()\n",
    "model.summary()"
   ]
  },
  {
   "cell_type": "markdown",
   "metadata": {},
   "source": [
    "##### Our model has a little over 95,000 parameters or weights to train (hence the need for a lot of images). Note that there are small set of non-trainable parameter from the normalization layer. \n",
    "\n",
    "##### We can also generate a simple visualization:"
   ]
  },
  {
   "cell_type": "code",
   "execution_count": 37,
   "metadata": {},
   "outputs": [
    {
     "name": "stdout",
     "output_type": "stream",
     "text": [
      "You must install pydot (`pip install pydot`) and install graphviz (see instructions at https://graphviz.gitlab.io/download/) for plot_model to work.\n"
     ]
    }
   ],
   "source": [
    "from tensorflow.keras.utils import plot_model\n",
    "plot_model(model, show_shapes=True, show_layer_names=True, show_layer_activations=True,dpi=75)"
   ]
  },
  {
   "cell_type": "markdown",
   "metadata": {},
   "source": [
    "##### The next step is to compile the model. This is an optimization function, a loss function and performance metric. A good option for the loss function in a regression problem is `mean_squared_error`, metrics allows the user to add aditional functions to monitor training. The optimizer implements the agorithmn which updates the weights of the model."
   ]
  },
  {
   "cell_type": "code",
   "execution_count": 38,
   "metadata": {},
   "outputs": [],
   "source": [
    "model.compile(loss = 'mean_squared_error', \n",
    "              metrics = [\"mean_absolute_error\"], \n",
    "              optimizer = RMSprop())"
   ]
  },
  {
   "cell_type": "markdown",
   "metadata": {},
   "source": [
    "## Training the model\n",
    "\n",
    "##### We'll now train the model for 50 epochs using the `fit()` method upon our built model. We specify:\n",
    "\n",
    "- `train_atmos`: The training subset of the atmospheric variables\n",
    "- `train_opg`: The training subset of the observed OPGs\n",
    "- `batch_size`: The number of samples or observation days used per gradient update.\n",
    "- `epochs`: The number of full training iterations.\n",
    "- `validation_data`: The validation subset of the atmospheric variables and observed OPGs\n",
    "\n",
    "##### This takes a few minutes to train (on my laptop). It's worth remembering what is going on here: the algorithm is reading in batches of 32 images, rescaling them, updating model weights through back propagation and then repeating the whole thing 50 times. As we previously defined a separate validation subset, this routine will calculate two losses:\n",
    "- The training loss. This is how accurately the model can predict OPG from the atmospheric 'images' that are being used to update the weights\n",
    "- The validation loss. This is how accurately the model can predict OPG from a set of atmospheric 'images' that are not used in updating the weights\n",
    "\n",
    "##### As the model continues to train, you should see the loss decrease for both of these, but will likely stabilize at a certain point."
   ]
  },
  {
   "cell_type": "code",
   "execution_count": 39,
   "metadata": {},
   "outputs": [
    {
     "name": "stdout",
     "output_type": "stream",
     "text": [
      "Epoch 1/50\n",
      "60/60 [==============================] - 1s 11ms/step - loss: 0.6073 - mean_absolute_error: 0.4529 - val_loss: 0.4786 - val_mean_absolute_error: 0.3331\n",
      "Epoch 2/50\n",
      "60/60 [==============================] - 0s 7ms/step - loss: 0.4294 - mean_absolute_error: 0.3471 - val_loss: 0.4417 - val_mean_absolute_error: 0.3265\n",
      "Epoch 3/50\n",
      "60/60 [==============================] - 0s 7ms/step - loss: 0.3915 - mean_absolute_error: 0.3365 - val_loss: 0.4064 - val_mean_absolute_error: 0.3201\n",
      "Epoch 4/50\n",
      "60/60 [==============================] - 0s 8ms/step - loss: 0.3828 - mean_absolute_error: 0.3295 - val_loss: 0.3892 - val_mean_absolute_error: 0.3204\n",
      "Epoch 5/50\n",
      "60/60 [==============================] - 0s 7ms/step - loss: 0.3683 - mean_absolute_error: 0.3250 - val_loss: 0.3886 - val_mean_absolute_error: 0.3194\n",
      "Epoch 6/50\n",
      "60/60 [==============================] - 0s 7ms/step - loss: 0.3643 - mean_absolute_error: 0.3227 - val_loss: 0.3775 - val_mean_absolute_error: 0.3214\n",
      "Epoch 7/50\n",
      "60/60 [==============================] - 0s 7ms/step - loss: 0.3535 - mean_absolute_error: 0.3191 - val_loss: 0.3788 - val_mean_absolute_error: 0.3208\n",
      "Epoch 8/50\n",
      "60/60 [==============================] - 0s 7ms/step - loss: 0.3544 - mean_absolute_error: 0.3186 - val_loss: 0.3724 - val_mean_absolute_error: 0.3220\n",
      "Epoch 9/50\n",
      "60/60 [==============================] - 0s 7ms/step - loss: 0.3434 - mean_absolute_error: 0.3154 - val_loss: 0.3782 - val_mean_absolute_error: 0.3273\n",
      "Epoch 10/50\n",
      "60/60 [==============================] - 0s 7ms/step - loss: 0.3355 - mean_absolute_error: 0.3107 - val_loss: 0.3694 - val_mean_absolute_error: 0.3243\n",
      "Epoch 11/50\n",
      "60/60 [==============================] - 0s 8ms/step - loss: 0.3403 - mean_absolute_error: 0.3126 - val_loss: 0.3709 - val_mean_absolute_error: 0.3248\n",
      "Epoch 12/50\n",
      "60/60 [==============================] - 1s 9ms/step - loss: 0.3358 - mean_absolute_error: 0.3113 - val_loss: 0.3775 - val_mean_absolute_error: 0.3255\n",
      "Epoch 13/50\n",
      "60/60 [==============================] - 0s 8ms/step - loss: 0.3298 - mean_absolute_error: 0.3076 - val_loss: 0.3614 - val_mean_absolute_error: 0.3228\n",
      "Epoch 14/50\n",
      "60/60 [==============================] - 0s 8ms/step - loss: 0.3234 - mean_absolute_error: 0.3066 - val_loss: 0.3532 - val_mean_absolute_error: 0.3218\n",
      "Epoch 15/50\n",
      "60/60 [==============================] - 0s 8ms/step - loss: 0.3204 - mean_absolute_error: 0.3050 - val_loss: 0.3515 - val_mean_absolute_error: 0.3178\n",
      "Epoch 16/50\n",
      "60/60 [==============================] - 0s 7ms/step - loss: 0.3182 - mean_absolute_error: 0.3050 - val_loss: 0.3552 - val_mean_absolute_error: 0.3204\n",
      "Epoch 17/50\n",
      "60/60 [==============================] - 0s 7ms/step - loss: 0.3164 - mean_absolute_error: 0.3037 - val_loss: 0.3526 - val_mean_absolute_error: 0.3121\n",
      "Epoch 18/50\n",
      "60/60 [==============================] - 0s 7ms/step - loss: 0.3126 - mean_absolute_error: 0.3004 - val_loss: 0.3510 - val_mean_absolute_error: 0.3204\n",
      "Epoch 19/50\n",
      "60/60 [==============================] - 0s 7ms/step - loss: 0.3122 - mean_absolute_error: 0.3015 - val_loss: 0.3586 - val_mean_absolute_error: 0.3183\n",
      "Epoch 20/50\n",
      "60/60 [==============================] - 0s 7ms/step - loss: 0.3061 - mean_absolute_error: 0.2980 - val_loss: 0.3616 - val_mean_absolute_error: 0.3232\n",
      "Epoch 21/50\n",
      "60/60 [==============================] - 0s 7ms/step - loss: 0.3002 - mean_absolute_error: 0.2964 - val_loss: 0.3504 - val_mean_absolute_error: 0.3169\n",
      "Epoch 22/50\n",
      "60/60 [==============================] - 0s 8ms/step - loss: 0.3035 - mean_absolute_error: 0.2974 - val_loss: 0.3464 - val_mean_absolute_error: 0.3132\n",
      "Epoch 23/50\n",
      "60/60 [==============================] - 0s 7ms/step - loss: 0.2993 - mean_absolute_error: 0.2967 - val_loss: 0.3546 - val_mean_absolute_error: 0.3207\n",
      "Epoch 24/50\n",
      "60/60 [==============================] - 0s 7ms/step - loss: 0.2947 - mean_absolute_error: 0.2947 - val_loss: 0.3522 - val_mean_absolute_error: 0.3165\n",
      "Epoch 25/50\n",
      "60/60 [==============================] - 0s 7ms/step - loss: 0.2925 - mean_absolute_error: 0.2932 - val_loss: 0.3516 - val_mean_absolute_error: 0.3248\n",
      "Epoch 26/50\n",
      "60/60 [==============================] - 0s 7ms/step - loss: 0.2918 - mean_absolute_error: 0.2940 - val_loss: 0.3434 - val_mean_absolute_error: 0.3098\n",
      "Epoch 27/50\n",
      "60/60 [==============================] - 0s 7ms/step - loss: 0.2858 - mean_absolute_error: 0.2911 - val_loss: 0.3504 - val_mean_absolute_error: 0.3167\n",
      "Epoch 28/50\n",
      "60/60 [==============================] - 0s 7ms/step - loss: 0.2876 - mean_absolute_error: 0.2917 - val_loss: 0.3507 - val_mean_absolute_error: 0.3164\n",
      "Epoch 29/50\n",
      "60/60 [==============================] - 0s 7ms/step - loss: 0.2852 - mean_absolute_error: 0.2905 - val_loss: 0.3449 - val_mean_absolute_error: 0.3180\n",
      "Epoch 30/50\n",
      "60/60 [==============================] - 0s 7ms/step - loss: 0.2801 - mean_absolute_error: 0.2895 - val_loss: 0.3612 - val_mean_absolute_error: 0.3299\n",
      "Epoch 31/50\n",
      "60/60 [==============================] - 0s 7ms/step - loss: 0.2790 - mean_absolute_error: 0.2891 - val_loss: 0.3382 - val_mean_absolute_error: 0.3106\n",
      "Epoch 32/50\n",
      "60/60 [==============================] - 0s 7ms/step - loss: 0.2761 - mean_absolute_error: 0.2869 - val_loss: 0.3528 - val_mean_absolute_error: 0.3146\n",
      "Epoch 33/50\n",
      "60/60 [==============================] - 0s 7ms/step - loss: 0.2730 - mean_absolute_error: 0.2859 - val_loss: 0.3656 - val_mean_absolute_error: 0.3265\n",
      "Epoch 34/50\n",
      "60/60 [==============================] - 0s 7ms/step - loss: 0.2786 - mean_absolute_error: 0.2889 - val_loss: 0.3491 - val_mean_absolute_error: 0.3165\n",
      "Epoch 35/50\n",
      "60/60 [==============================] - 0s 7ms/step - loss: 0.2746 - mean_absolute_error: 0.2867 - val_loss: 0.3417 - val_mean_absolute_error: 0.3129\n",
      "Epoch 36/50\n",
      "60/60 [==============================] - 0s 7ms/step - loss: 0.2717 - mean_absolute_error: 0.2851 - val_loss: 0.3519 - val_mean_absolute_error: 0.3171\n",
      "Epoch 37/50\n",
      "60/60 [==============================] - 0s 7ms/step - loss: 0.2705 - mean_absolute_error: 0.2852 - val_loss: 0.3511 - val_mean_absolute_error: 0.3215\n",
      "Epoch 38/50\n",
      "60/60 [==============================] - 0s 7ms/step - loss: 0.2650 - mean_absolute_error: 0.2830 - val_loss: 0.3430 - val_mean_absolute_error: 0.3152\n",
      "Epoch 39/50\n",
      "60/60 [==============================] - 0s 7ms/step - loss: 0.2661 - mean_absolute_error: 0.2833 - val_loss: 0.3402 - val_mean_absolute_error: 0.3147\n",
      "Epoch 40/50\n",
      "60/60 [==============================] - 0s 7ms/step - loss: 0.2632 - mean_absolute_error: 0.2818 - val_loss: 0.3432 - val_mean_absolute_error: 0.3101\n",
      "Epoch 41/50\n",
      "60/60 [==============================] - 0s 7ms/step - loss: 0.2637 - mean_absolute_error: 0.2815 - val_loss: 0.3484 - val_mean_absolute_error: 0.3153\n",
      "Epoch 42/50\n",
      "60/60 [==============================] - 0s 7ms/step - loss: 0.2625 - mean_absolute_error: 0.2816 - val_loss: 0.3442 - val_mean_absolute_error: 0.3145\n",
      "Epoch 43/50\n",
      "60/60 [==============================] - 0s 7ms/step - loss: 0.2553 - mean_absolute_error: 0.2775 - val_loss: 0.3513 - val_mean_absolute_error: 0.3174\n",
      "Epoch 44/50\n",
      "60/60 [==============================] - 0s 7ms/step - loss: 0.2536 - mean_absolute_error: 0.2775 - val_loss: 0.3377 - val_mean_absolute_error: 0.3096\n",
      "Epoch 45/50\n",
      "60/60 [==============================] - 0s 7ms/step - loss: 0.2542 - mean_absolute_error: 0.2779 - val_loss: 0.3490 - val_mean_absolute_error: 0.3180\n",
      "Epoch 46/50\n",
      "60/60 [==============================] - 0s 7ms/step - loss: 0.2540 - mean_absolute_error: 0.2786 - val_loss: 0.3499 - val_mean_absolute_error: 0.3199\n",
      "Epoch 47/50\n",
      "60/60 [==============================] - 0s 7ms/step - loss: 0.2481 - mean_absolute_error: 0.2765 - val_loss: 0.3531 - val_mean_absolute_error: 0.3188\n",
      "Epoch 48/50\n",
      "60/60 [==============================] - 0s 7ms/step - loss: 0.2520 - mean_absolute_error: 0.2775 - val_loss: 0.3546 - val_mean_absolute_error: 0.3179\n",
      "Epoch 49/50\n",
      "60/60 [==============================] - 0s 7ms/step - loss: 0.2523 - mean_absolute_error: 0.2763 - val_loss: 0.3488 - val_mean_absolute_error: 0.3191\n",
      "Epoch 50/50\n",
      "60/60 [==============================] - 0s 7ms/step - loss: 0.2490 - mean_absolute_error: 0.2759 - val_loss: 0.3490 - val_mean_absolute_error: 0.3168\n"
     ]
    }
   ],
   "source": [
    "epochs = 50\n",
    "hist = model.fit(train_atmos, train_opg, # training data\n",
    "                  batch_size = batch_size,\n",
    "                  epochs = epochs,                        # epochs\n",
    "                  validation_data = (val_atmos, val_opg), # validation data\n",
    "                  verbose = 1)                           # print progress"
   ]
  },
  {
   "cell_type": "markdown",
   "metadata": {},
   "source": [
    "##### Now plot the evolution of the loss function and the actual versus predicted OPGs:"
   ]
  },
  {
   "cell_type": "code",
   "execution_count": 40,
   "metadata": {},
   "outputs": [
    {
     "data": {
      "image/png": "[encoded data removed]",
      "text/plain": [
       "<Figure size 700x400 with 1 Axes>"
      ]
     },
     "metadata": {},
     "output_type": "display_data"
    },
    {
     "name": "stdout",
     "output_type": "stream",
     "text": [
      "13/13 [==============================] - 0s 3ms/step\n"
     ]
    },
    {
     "data": {
      "image/png": "[encoded data removed]",
      "text/plain": [
       "<Figure size 600x500 with 2 Axes>"
      ]
     },
     "metadata": {},
     "output_type": "display_data"
    }
   ],
   "source": [
    "def plot_loss(hist_obs, name):\n",
    "    # Define label sizes\n",
    "    label_size = 14\n",
    "    tick_size = 12\n",
    "    \n",
    "    # Create Figure\n",
    "    plt.figure(figsize=(7, 4))\n",
    "    plt.plot(hist_obs.history['loss'], label='train')\n",
    "    plt.plot(hist_obs.history['val_loss'], label='valid')\n",
    "    plt.xlabel(\"Epochs\", fontsize=label_size)\n",
    "    plt.ylabel(\"Mean Squared Error\", fontsize=label_size)\n",
    "    plt.ylim(bottom=0)\n",
    "    plt.grid(True)\n",
    "    plt.legend()\n",
    "\n",
    "    # Save and show figure\n",
    "    path = \"../figures/\"\n",
    "    plt.savefig(f\"{path}eval_loss_{name}.png\", dpi=200, transparent=True,  bbox_inches='tight')\n",
    "    plt.show()\n",
    "\n",
    "def plot_act_pred(modelx, hist_obs, name):\n",
    "    # Using our fitted model, predict OPGs from the testing subset.\n",
    "    predicted = modelx.predict(test_atmos)\n",
    "\n",
    "    # set zero OPGs to nan\n",
    "    actual = test_opg\n",
    "    actual[actual==0] = np.nan\n",
    "    predicted[predicted==0] = np.nan\n",
    "    \n",
    "    # Convert from standardized OPG to mm/m OPG\n",
    "    actual    = (test_opg * opg_std) + opg_mean\n",
    "    predicted = (predicted * opg_std) + opg_mean\n",
    "    \n",
    "    # Lets reshape our OPGs and remove NaN OPG days\n",
    "    actual    = np.reshape(actual, -1)\n",
    "    predicted = np.reshape(predicted, -1)\n",
    "    idx       = np.isnan(actual) # Identify days with OPG observations\n",
    "    actual    = actual[idx==False]\n",
    "    predicted = predicted[idx==False]\n",
    "    \n",
    "    # Formulate the x and y axis limits\n",
    "    max_val = np.max((np.max(predicted[:]), np.max(actual[:])))\n",
    "    min_val = np.min((np.min(predicted[:]), np.min(actual[:])))\n",
    "    max_val = 0.05\n",
    "    min_val = -0.05\n",
    "    \n",
    "    # Define plot colormap\n",
    "    cmap_gnuplot2 = ncm.cmap(\"MPL_gnuplot2\")\n",
    "    \n",
    "    # Define label sizes\n",
    "    label_size = 14\n",
    "    tick_size = 12\n",
    "    \n",
    "    # Create Figure\n",
    "    plt.figure(figsize=(6, 5))\n",
    "    \n",
    "    # Formulate the heatmap variables\n",
    "    heatmap, xedges, yedges = np.histogram2d(np.reshape(actual, -1), np.reshape(predicted, -1), bins=100,\n",
    "                                 range=[[min_val, max_val],[min_val, max_val]])\n",
    "    extent = [xedges[0], xedges[-1], yedges[0], yedges[-1]]\n",
    "\n",
    "    # Plot heatmap\n",
    "    plt.imshow(heatmap.T, extent=extent, origin='lower', cmap=cmap_gnuplot2, norm=colors.LogNorm())\n",
    "\n",
    "    # Plot One-to-one line\n",
    "    plt.plot([xedges[0], xedges[-1]], [yedges[0], yedges[-1]], c='red')\n",
    "\n",
    "    # corr\n",
    "    corr = np.round(np.corrcoef(actual, predicted)[0,1]**2 , 2)\n",
    "    last_mse = np.round(hist_obs.history['val_loss'][-1], 2)\n",
    "    \n",
    "    # Add labels, gridlines, and colorbar\n",
    "    plt.xlabel(\"Actual\", fontsize=label_size)\n",
    "    plt.ylabel(\"Predicted\", fontsize=label_size)\n",
    "    plt.title(\"r^2 = \" + str(corr) + \", Error = \" + str(last_mse))\n",
    "    plt.grid(True)\n",
    "    plt.colorbar()\n",
    "\n",
    "    # Save and show figure\n",
    "    path = \"../figures/\"\n",
    "    plt.savefig(f\"{path}eval_act_pred_{name}.png\", dpi=200, transparent=True,  bbox_inches='tight')\n",
    "    plt.show()\n",
    "\n",
    "\n",
    "plot_loss(hist, 'model_01')\n",
    "plot_act_pred(model, hist, 'model_01')"
   ]
  },
  {
   "cell_type": "markdown",
   "metadata": {},
   "source": [
    "##### The plot shows a steep decline in both loss values, but no real improvement in the validation loss beyond epoch 20. It's quite likely that this model has overfit - become too tuned to the training data to allow prediction. There are a variety of ways we can avoid this, but a simple one is to slow the rate at which the model learns. We'll refit the model, but will add a `learning_rate` parameter to the compilation step. \n",
    "\n",
    "##### Additionally, `callbacks` can be added to the fitting process, in which the fit algorithm will monitor the validation loss. Here, when the validation loss does not improve after 5 epochs, the model stops training."
   ]
  },
  {
   "cell_type": "code",
   "execution_count": 41,
   "metadata": {},
   "outputs": [
    {
     "name": "stdout",
     "output_type": "stream",
     "text": [
      "Epoch 1/100\n",
      "60/60 [==============================] - 1s 10ms/step - loss: 1.1935 - mean_absolute_error: 0.7640 - val_loss: 0.5036 - val_mean_absolute_error: 0.3777\n",
      "Epoch 2/100\n",
      "60/60 [==============================] - 0s 7ms/step - loss: 0.7343 - mean_absolute_error: 0.5749 - val_loss: 0.4924 - val_mean_absolute_error: 0.3681\n",
      "Epoch 3/100\n",
      "60/60 [==============================] - 0s 7ms/step - loss: 0.6058 - mean_absolute_error: 0.4965 - val_loss: 0.4821 - val_mean_absolute_error: 0.3638\n",
      "Epoch 4/100\n",
      "60/60 [==============================] - 0s 8ms/step - loss: 0.5500 - mean_absolute_error: 0.4557 - val_loss: 0.4735 - val_mean_absolute_error: 0.3625\n",
      "Epoch 5/100\n",
      "60/60 [==============================] - 0s 8ms/step - loss: 0.5126 - mean_absolute_error: 0.4300 - val_loss: 0.4648 - val_mean_absolute_error: 0.3589\n",
      "Epoch 6/100\n",
      "60/60 [==============================] - 0s 7ms/step - loss: 0.4942 - mean_absolute_error: 0.4130 - val_loss: 0.4565 - val_mean_absolute_error: 0.3576\n",
      "Epoch 7/100\n",
      "60/60 [==============================] - 0s 7ms/step - loss: 0.4811 - mean_absolute_error: 0.4023 - val_loss: 0.4460 - val_mean_absolute_error: 0.3572\n",
      "Epoch 8/100\n",
      "60/60 [==============================] - 0s 7ms/step - loss: 0.4684 - mean_absolute_error: 0.3939 - val_loss: 0.4384 - val_mean_absolute_error: 0.3532\n",
      "Epoch 9/100\n",
      "60/60 [==============================] - 0s 7ms/step - loss: 0.4580 - mean_absolute_error: 0.3858 - val_loss: 0.4328 - val_mean_absolute_error: 0.3531\n",
      "Epoch 10/100\n",
      "60/60 [==============================] - 0s 7ms/step - loss: 0.4479 - mean_absolute_error: 0.3807 - val_loss: 0.4257 - val_mean_absolute_error: 0.3495\n",
      "Epoch 11/100\n",
      "60/60 [==============================] - 0s 7ms/step - loss: 0.4338 - mean_absolute_error: 0.3734 - val_loss: 0.4180 - val_mean_absolute_error: 0.3472\n",
      "Epoch 12/100\n",
      "60/60 [==============================] - 0s 7ms/step - loss: 0.4291 - mean_absolute_error: 0.3697 - val_loss: 0.4119 - val_mean_absolute_error: 0.3457\n",
      "Epoch 13/100\n",
      "60/60 [==============================] - 0s 7ms/step - loss: 0.4215 - mean_absolute_error: 0.3657 - val_loss: 0.4112 - val_mean_absolute_error: 0.3465\n",
      "Epoch 14/100\n",
      "60/60 [==============================] - 0s 7ms/step - loss: 0.4170 - mean_absolute_error: 0.3618 - val_loss: 0.4093 - val_mean_absolute_error: 0.3450\n",
      "Epoch 15/100\n",
      "60/60 [==============================] - 0s 7ms/step - loss: 0.4121 - mean_absolute_error: 0.3588 - val_loss: 0.4082 - val_mean_absolute_error: 0.3447\n",
      "Epoch 16/100\n",
      "60/60 [==============================] - 0s 7ms/step - loss: 0.4144 - mean_absolute_error: 0.3584 - val_loss: 0.4002 - val_mean_absolute_error: 0.3389\n",
      "Epoch 17/100\n",
      "60/60 [==============================] - 0s 8ms/step - loss: 0.4005 - mean_absolute_error: 0.3527 - val_loss: 0.3953 - val_mean_absolute_error: 0.3349\n",
      "Epoch 18/100\n",
      "60/60 [==============================] - 0s 7ms/step - loss: 0.3998 - mean_absolute_error: 0.3499 - val_loss: 0.3954 - val_mean_absolute_error: 0.3358\n",
      "Epoch 19/100\n",
      "60/60 [==============================] - 0s 7ms/step - loss: 0.3984 - mean_absolute_error: 0.3489 - val_loss: 0.3969 - val_mean_absolute_error: 0.3379\n",
      "Epoch 20/100\n",
      "60/60 [==============================] - 0s 7ms/step - loss: 0.3956 - mean_absolute_error: 0.3455 - val_loss: 0.3901 - val_mean_absolute_error: 0.3321\n",
      "Epoch 21/100\n",
      "60/60 [==============================] - 0s 8ms/step - loss: 0.3894 - mean_absolute_error: 0.3427 - val_loss: 0.3865 - val_mean_absolute_error: 0.3302\n",
      "Epoch 22/100\n",
      "60/60 [==============================] - 0s 7ms/step - loss: 0.3840 - mean_absolute_error: 0.3401 - val_loss: 0.3879 - val_mean_absolute_error: 0.3329\n",
      "Epoch 23/100\n",
      "60/60 [==============================] - 0s 7ms/step - loss: 0.3832 - mean_absolute_error: 0.3397 - val_loss: 0.3848 - val_mean_absolute_error: 0.3300\n",
      "Epoch 24/100\n",
      "60/60 [==============================] - 0s 7ms/step - loss: 0.3839 - mean_absolute_error: 0.3390 - val_loss: 0.3838 - val_mean_absolute_error: 0.3301\n",
      "Epoch 25/100\n",
      "60/60 [==============================] - 0s 7ms/step - loss: 0.3790 - mean_absolute_error: 0.3371 - val_loss: 0.3791 - val_mean_absolute_error: 0.3253\n",
      "Epoch 26/100\n",
      "60/60 [==============================] - 0s 7ms/step - loss: 0.3759 - mean_absolute_error: 0.3353 - val_loss: 0.3800 - val_mean_absolute_error: 0.3264\n",
      "Epoch 27/100\n",
      "60/60 [==============================] - 0s 7ms/step - loss: 0.3795 - mean_absolute_error: 0.3348 - val_loss: 0.3766 - val_mean_absolute_error: 0.3236\n",
      "Epoch 28/100\n",
      "60/60 [==============================] - 0s 8ms/step - loss: 0.3802 - mean_absolute_error: 0.3339 - val_loss: 0.3779 - val_mean_absolute_error: 0.3262\n",
      "Epoch 29/100\n",
      "60/60 [==============================] - 0s 7ms/step - loss: 0.3710 - mean_absolute_error: 0.3325 - val_loss: 0.3793 - val_mean_absolute_error: 0.3273\n",
      "Epoch 30/100\n",
      "60/60 [==============================] - 0s 7ms/step - loss: 0.3729 - mean_absolute_error: 0.3335 - val_loss: 0.3720 - val_mean_absolute_error: 0.3203\n",
      "Epoch 31/100\n",
      "60/60 [==============================] - 0s 7ms/step - loss: 0.3689 - mean_absolute_error: 0.3301 - val_loss: 0.3734 - val_mean_absolute_error: 0.3232\n",
      "Epoch 32/100\n",
      "60/60 [==============================] - 0s 7ms/step - loss: 0.3682 - mean_absolute_error: 0.3304 - val_loss: 0.3724 - val_mean_absolute_error: 0.3233\n",
      "Epoch 33/100\n",
      "60/60 [==============================] - 0s 7ms/step - loss: 0.3674 - mean_absolute_error: 0.3302 - val_loss: 0.3721 - val_mean_absolute_error: 0.3227\n",
      "Epoch 34/100\n",
      "60/60 [==============================] - 0s 7ms/step - loss: 0.3628 - mean_absolute_error: 0.3279 - val_loss: 0.3734 - val_mean_absolute_error: 0.3239\n",
      "Epoch 35/100\n",
      "60/60 [==============================] - 0s 7ms/step - loss: 0.3672 - mean_absolute_error: 0.3286 - val_loss: 0.3752 - val_mean_absolute_error: 0.3256\n"
     ]
    }
   ],
   "source": [
    "model = create_model()\n",
    "\n",
    "model.compile(loss = 'mean_squared_error', \n",
    "              metrics = [\"mean_absolute_error\"], \n",
    "              optimizer = RMSprop(learning_rate=1e-4))\n",
    "\n",
    "callback = [EarlyStopping(monitor='val_loss', patience=5, mode='min')]\n",
    "\n",
    "epochs = 100\n",
    "hist = model.fit(train_atmos, train_opg, # training data\n",
    "                  batch_size = batch_size,\n",
    "                  epochs = epochs,                        # epochs\n",
    "                  validation_data = (val_atmos, val_opg), # validation data\n",
    "                  callbacks=[callback],                   # patience\n",
    "                  verbose = 1)                           # print progress"
   ]
  },
  {
   "cell_type": "code",
   "execution_count": 42,
   "metadata": {},
   "outputs": [
    {
     "data": {
      "image/png": "[encoded data removed]",
      "text/plain": [
       "<Figure size 700x400 with 1 Axes>"
      ]
     },
     "metadata": {},
     "output_type": "display_data"
    },
    {
     "name": "stdout",
     "output_type": "stream",
     "text": [
      "13/13 [==============================] - 0s 3ms/step\n"
     ]
    },
    {
     "data": {
      "image/png": "[encoded data removed]",
      "text/plain": [
       "<Figure size 600x500 with 2 Axes>"
      ]
     },
     "metadata": {},
     "output_type": "display_data"
    }
   ],
   "source": [
    "plot_loss(hist, 'model_02_adjust_lr')\n",
    "plot_act_pred(model, hist, 'model_02_adjust_lr')"
   ]
  },
  {
   "cell_type": "markdown",
   "metadata": {},
   "source": [
    "##### The plot now shows a good evolution of the loss value."
   ]
  },
  {
   "cell_type": "markdown",
   "metadata": {},
   "source": [
    "## How does changing the stucture affect the training outcome?\n",
    "\n",
    "##### Along with the loss function, the structure of the CNN can be changed. I suggest seeing what happens when you do the following changes individually:\n",
    "1. `Change the Dense layers to have units=10`\n",
    "2. `Uncomment the additional MaxPooling2D and Conv2D layers`\n",
    "3. `Change the loss function to mean_absolute_error`\n",
    "4. `Set Dropout to zero`\n",
    "\n",
    "##### Pay mind to how changing these parameters affect the number of parameters to train, how long training time becomes, and the 2D histogram of actual versus predicted OPGs. Feel free to try your own edits to inspect how it affects the testing outcome."
   ]
  },
  {
   "cell_type": "code",
   "execution_count": 44,
   "metadata": {},
   "outputs": [
    {
     "name": "stdout",
     "output_type": "stream",
     "text": [
      "Model: \"sequential_4\"\n",
      "_________________________________________________________________\n",
      " Layer (type)                Output Shape              Param #   \n",
      "=================================================================\n",
      " conv2d_3 (Conv2D)           (None, 19, 27, 16)        880       \n",
      "                                                                 \n",
      " max_pooling2d_2 (MaxPoolin  (None, 9, 13, 16)         0         \n",
      " g2D)                                                            \n",
      "                                                                 \n",
      " conv2d_4 (Conv2D)           (None, 9, 13, 32)         4640      \n",
      "                                                                 \n",
      " batch_normalization_1 (Bat  (None, 9, 13, 32)         128       \n",
      " chNormalization)                                                \n",
      "                                                                 \n",
      " max_pooling2d_3 (MaxPoolin  (None, 4, 6, 32)          0         \n",
      " g2D)                                                            \n",
      "                                                                 \n",
      " dropout_9 (Dropout)         (None, 4, 6, 32)          0         \n",
      "                                                                 \n",
      " flatten_3 (Flatten)         (None, 768)               0         \n",
      "                                                                 \n",
      " dense_3 (Dense)             (None, 100)               76900     \n",
      "                                                                 \n",
      " dense_4 (Dense)             (None, 100)               10100     \n",
      "                                                                 \n",
      " dropout_10 (Dropout)        (None, 100)               0         \n",
      "                                                                 \n",
      " dense_5 (Dense)             (None, 30)                3030      \n",
      "                                                                 \n",
      "=================================================================\n",
      "Total params: 95678 (373.74 KB)\n",
      "Trainable params: 95614 (373.49 KB)\n",
      "Non-trainable params: 64 (256.00 Byte)\n",
      "_________________________________________________________________\n",
      "Epoch 1/80\n",
      "60/60 [==============================] - 1s 9ms/step - loss: 0.9535 - mean_absolute_error: 0.6728 - mean_squared_error: 0.9535 - val_loss: 0.5033 - val_mean_absolute_error: 0.3722 - val_mean_squared_error: 0.5033\n",
      "Epoch 2/80\n",
      "60/60 [==============================] - 0s 6ms/step - loss: 0.6570 - mean_absolute_error: 0.5311 - mean_squared_error: 0.6570 - val_loss: 0.4901 - val_mean_absolute_error: 0.3638 - val_mean_squared_error: 0.4901\n",
      "Epoch 3/80\n",
      "60/60 [==============================] - 0s 7ms/step - loss: 0.5585 - mean_absolute_error: 0.4695 - mean_squared_error: 0.5585 - val_loss: 0.4762 - val_mean_absolute_error: 0.3607 - val_mean_squared_error: 0.4762\n",
      "Epoch 4/80\n",
      "60/60 [==============================] - 0s 7ms/step - loss: 0.5136 - mean_absolute_error: 0.4368 - mean_squared_error: 0.5136 - val_loss: 0.4647 - val_mean_absolute_error: 0.3569 - val_mean_squared_error: 0.4647\n",
      "Epoch 5/80\n",
      "60/60 [==============================] - 0s 7ms/step - loss: 0.4751 - mean_absolute_error: 0.4096 - mean_squared_error: 0.4751 - val_loss: 0.4517 - val_mean_absolute_error: 0.3542 - val_mean_squared_error: 0.4517\n",
      "Epoch 6/80\n",
      "60/60 [==============================] - 0s 7ms/step - loss: 0.4556 - mean_absolute_error: 0.3945 - mean_squared_error: 0.4556 - val_loss: 0.4421 - val_mean_absolute_error: 0.3514 - val_mean_squared_error: 0.4421\n",
      "Epoch 7/80\n",
      "60/60 [==============================] - 0s 7ms/step - loss: 0.4389 - mean_absolute_error: 0.3842 - mean_squared_error: 0.4389 - val_loss: 0.4344 - val_mean_absolute_error: 0.3470 - val_mean_squared_error: 0.4344\n",
      "Epoch 8/80\n",
      "60/60 [==============================] - 0s 7ms/step - loss: 0.4314 - mean_absolute_error: 0.3743 - mean_squared_error: 0.4314 - val_loss: 0.4282 - val_mean_absolute_error: 0.3436 - val_mean_squared_error: 0.4282\n",
      "Epoch 9/80\n",
      "60/60 [==============================] - 0s 7ms/step - loss: 0.4253 - mean_absolute_error: 0.3676 - mean_squared_error: 0.4253 - val_loss: 0.4206 - val_mean_absolute_error: 0.3425 - val_mean_squared_error: 0.4206\n",
      "Epoch 10/80\n",
      "60/60 [==============================] - 0s 6ms/step - loss: 0.4140 - mean_absolute_error: 0.3631 - mean_squared_error: 0.4140 - val_loss: 0.4192 - val_mean_absolute_error: 0.3388 - val_mean_squared_error: 0.4192\n",
      "Epoch 11/80\n",
      "60/60 [==============================] - 0s 6ms/step - loss: 0.4068 - mean_absolute_error: 0.3575 - mean_squared_error: 0.4068 - val_loss: 0.4156 - val_mean_absolute_error: 0.3383 - val_mean_squared_error: 0.4156\n",
      "Epoch 12/80\n",
      "60/60 [==============================] - 0s 6ms/step - loss: 0.4013 - mean_absolute_error: 0.3539 - mean_squared_error: 0.4013 - val_loss: 0.4112 - val_mean_absolute_error: 0.3350 - val_mean_squared_error: 0.4112\n",
      "Epoch 13/80\n",
      "60/60 [==============================] - 0s 7ms/step - loss: 0.4038 - mean_absolute_error: 0.3525 - mean_squared_error: 0.4038 - val_loss: 0.4050 - val_mean_absolute_error: 0.3334 - val_mean_squared_error: 0.4050\n",
      "Epoch 14/80\n",
      "60/60 [==============================] - 0s 7ms/step - loss: 0.3960 - mean_absolute_error: 0.3503 - mean_squared_error: 0.3960 - val_loss: 0.4011 - val_mean_absolute_error: 0.3329 - val_mean_squared_error: 0.4011\n",
      "Epoch 15/80\n",
      "60/60 [==============================] - 0s 7ms/step - loss: 0.3909 - mean_absolute_error: 0.3472 - mean_squared_error: 0.3909 - val_loss: 0.4013 - val_mean_absolute_error: 0.3317 - val_mean_squared_error: 0.4013\n",
      "Epoch 16/80\n",
      "60/60 [==============================] - 0s 6ms/step - loss: 0.3882 - mean_absolute_error: 0.3447 - mean_squared_error: 0.3882 - val_loss: 0.3999 - val_mean_absolute_error: 0.3299 - val_mean_squared_error: 0.3999\n",
      "Epoch 17/80\n",
      "60/60 [==============================] - 0s 6ms/step - loss: 0.3769 - mean_absolute_error: 0.3416 - mean_squared_error: 0.3769 - val_loss: 0.3952 - val_mean_absolute_error: 0.3292 - val_mean_squared_error: 0.3952\n",
      "Epoch 18/80\n",
      "60/60 [==============================] - 0s 6ms/step - loss: 0.3790 - mean_absolute_error: 0.3409 - mean_squared_error: 0.3790 - val_loss: 0.3947 - val_mean_absolute_error: 0.3279 - val_mean_squared_error: 0.3947\n",
      "Epoch 19/80\n",
      "60/60 [==============================] - 0s 6ms/step - loss: 0.3756 - mean_absolute_error: 0.3394 - mean_squared_error: 0.3756 - val_loss: 0.3917 - val_mean_absolute_error: 0.3271 - val_mean_squared_error: 0.3917\n",
      "Epoch 20/80\n",
      "60/60 [==============================] - 0s 6ms/step - loss: 0.3720 - mean_absolute_error: 0.3385 - mean_squared_error: 0.3720 - val_loss: 0.3901 - val_mean_absolute_error: 0.3283 - val_mean_squared_error: 0.3901\n",
      "Epoch 21/80\n",
      "60/60 [==============================] - 0s 6ms/step - loss: 0.3731 - mean_absolute_error: 0.3372 - mean_squared_error: 0.3731 - val_loss: 0.3876 - val_mean_absolute_error: 0.3255 - val_mean_squared_error: 0.3876\n",
      "Epoch 22/80\n",
      "60/60 [==============================] - 0s 6ms/step - loss: 0.3727 - mean_absolute_error: 0.3366 - mean_squared_error: 0.3727 - val_loss: 0.3863 - val_mean_absolute_error: 0.3269 - val_mean_squared_error: 0.3863\n",
      "Epoch 23/80\n",
      "60/60 [==============================] - 0s 6ms/step - loss: 0.3625 - mean_absolute_error: 0.3336 - mean_squared_error: 0.3625 - val_loss: 0.3832 - val_mean_absolute_error: 0.3240 - val_mean_squared_error: 0.3832\n",
      "Epoch 24/80\n",
      "60/60 [==============================] - 0s 6ms/step - loss: 0.3620 - mean_absolute_error: 0.3320 - mean_squared_error: 0.3620 - val_loss: 0.3831 - val_mean_absolute_error: 0.3228 - val_mean_squared_error: 0.3831\n",
      "Epoch 25/80\n",
      "60/60 [==============================] - 0s 7ms/step - loss: 0.3680 - mean_absolute_error: 0.3327 - mean_squared_error: 0.3680 - val_loss: 0.3793 - val_mean_absolute_error: 0.3230 - val_mean_squared_error: 0.3793\n",
      "Epoch 26/80\n",
      "60/60 [==============================] - 0s 7ms/step - loss: 0.3570 - mean_absolute_error: 0.3298 - mean_squared_error: 0.3570 - val_loss: 0.3777 - val_mean_absolute_error: 0.3221 - val_mean_squared_error: 0.3777\n",
      "Epoch 27/80\n",
      "60/60 [==============================] - 0s 7ms/step - loss: 0.3567 - mean_absolute_error: 0.3292 - mean_squared_error: 0.3567 - val_loss: 0.3767 - val_mean_absolute_error: 0.3223 - val_mean_squared_error: 0.3767\n",
      "Epoch 28/80\n",
      "60/60 [==============================] - 0s 7ms/step - loss: 0.3507 - mean_absolute_error: 0.3266 - mean_squared_error: 0.3507 - val_loss: 0.3765 - val_mean_absolute_error: 0.3209 - val_mean_squared_error: 0.3765\n",
      "Epoch 29/80\n",
      "60/60 [==============================] - 0s 7ms/step - loss: 0.3506 - mean_absolute_error: 0.3264 - mean_squared_error: 0.3506 - val_loss: 0.3742 - val_mean_absolute_error: 0.3225 - val_mean_squared_error: 0.3742\n",
      "Epoch 30/80\n",
      "60/60 [==============================] - 0s 7ms/step - loss: 0.3500 - mean_absolute_error: 0.3257 - mean_squared_error: 0.3500 - val_loss: 0.3721 - val_mean_absolute_error: 0.3210 - val_mean_squared_error: 0.3721\n",
      "Epoch 31/80\n",
      "60/60 [==============================] - 0s 6ms/step - loss: 0.3506 - mean_absolute_error: 0.3266 - mean_squared_error: 0.3506 - val_loss: 0.3721 - val_mean_absolute_error: 0.3182 - val_mean_squared_error: 0.3721\n",
      "Epoch 32/80\n",
      "60/60 [==============================] - 0s 6ms/step - loss: 0.3471 - mean_absolute_error: 0.3238 - mean_squared_error: 0.3471 - val_loss: 0.3719 - val_mean_absolute_error: 0.3185 - val_mean_squared_error: 0.3719\n",
      "Epoch 33/80\n",
      "60/60 [==============================] - 0s 6ms/step - loss: 0.3509 - mean_absolute_error: 0.3239 - mean_squared_error: 0.3509 - val_loss: 0.3704 - val_mean_absolute_error: 0.3210 - val_mean_squared_error: 0.3704\n",
      "Epoch 34/80\n",
      "60/60 [==============================] - 0s 6ms/step - loss: 0.3421 - mean_absolute_error: 0.3229 - mean_squared_error: 0.3421 - val_loss: 0.3690 - val_mean_absolute_error: 0.3189 - val_mean_squared_error: 0.3690\n",
      "Epoch 35/80\n",
      "60/60 [==============================] - 0s 6ms/step - loss: 0.3403 - mean_absolute_error: 0.3225 - mean_squared_error: 0.3403 - val_loss: 0.3659 - val_mean_absolute_error: 0.3167 - val_mean_squared_error: 0.3659\n",
      "Epoch 36/80\n",
      "60/60 [==============================] - 0s 6ms/step - loss: 0.3352 - mean_absolute_error: 0.3204 - mean_squared_error: 0.3352 - val_loss: 0.3665 - val_mean_absolute_error: 0.3198 - val_mean_squared_error: 0.3665\n",
      "Epoch 37/80\n",
      "60/60 [==============================] - 0s 6ms/step - loss: 0.3381 - mean_absolute_error: 0.3208 - mean_squared_error: 0.3381 - val_loss: 0.3642 - val_mean_absolute_error: 0.3161 - val_mean_squared_error: 0.3642\n",
      "Epoch 38/80\n",
      "60/60 [==============================] - 0s 6ms/step - loss: 0.3385 - mean_absolute_error: 0.3203 - mean_squared_error: 0.3385 - val_loss: 0.3659 - val_mean_absolute_error: 0.3179 - val_mean_squared_error: 0.3659\n",
      "Epoch 39/80\n",
      "60/60 [==============================] - 0s 6ms/step - loss: 0.3349 - mean_absolute_error: 0.3189 - mean_squared_error: 0.3349 - val_loss: 0.3639 - val_mean_absolute_error: 0.3171 - val_mean_squared_error: 0.3639\n",
      "Epoch 40/80\n",
      "60/60 [==============================] - 0s 6ms/step - loss: 0.3351 - mean_absolute_error: 0.3180 - mean_squared_error: 0.3351 - val_loss: 0.3643 - val_mean_absolute_error: 0.3191 - val_mean_squared_error: 0.3643\n",
      "Epoch 41/80\n",
      "60/60 [==============================] - 0s 6ms/step - loss: 0.3276 - mean_absolute_error: 0.3170 - mean_squared_error: 0.3276 - val_loss: 0.3605 - val_mean_absolute_error: 0.3161 - val_mean_squared_error: 0.3605\n",
      "Epoch 42/80\n",
      "60/60 [==============================] - 0s 6ms/step - loss: 0.3286 - mean_absolute_error: 0.3164 - mean_squared_error: 0.3286 - val_loss: 0.3592 - val_mean_absolute_error: 0.3164 - val_mean_squared_error: 0.3592\n",
      "Epoch 43/80\n",
      "60/60 [==============================] - 0s 6ms/step - loss: 0.3252 - mean_absolute_error: 0.3151 - mean_squared_error: 0.3252 - val_loss: 0.3579 - val_mean_absolute_error: 0.3159 - val_mean_squared_error: 0.3579\n",
      "Epoch 44/80\n",
      "60/60 [==============================] - 0s 6ms/step - loss: 0.3249 - mean_absolute_error: 0.3152 - mean_squared_error: 0.3249 - val_loss: 0.3596 - val_mean_absolute_error: 0.3146 - val_mean_squared_error: 0.3596\n",
      "Epoch 45/80\n",
      "60/60 [==============================] - 0s 6ms/step - loss: 0.3237 - mean_absolute_error: 0.3139 - mean_squared_error: 0.3237 - val_loss: 0.3585 - val_mean_absolute_error: 0.3178 - val_mean_squared_error: 0.3585\n",
      "Epoch 46/80\n",
      "60/60 [==============================] - 0s 6ms/step - loss: 0.3220 - mean_absolute_error: 0.3136 - mean_squared_error: 0.3220 - val_loss: 0.3573 - val_mean_absolute_error: 0.3166 - val_mean_squared_error: 0.3573\n",
      "Epoch 47/80\n",
      "60/60 [==============================] - 0s 7ms/step - loss: 0.3236 - mean_absolute_error: 0.3132 - mean_squared_error: 0.3236 - val_loss: 0.3568 - val_mean_absolute_error: 0.3147 - val_mean_squared_error: 0.3568\n",
      "Epoch 48/80\n",
      "60/60 [==============================] - 0s 7ms/step - loss: 0.3213 - mean_absolute_error: 0.3140 - mean_squared_error: 0.3213 - val_loss: 0.3581 - val_mean_absolute_error: 0.3135 - val_mean_squared_error: 0.3581\n",
      "Epoch 49/80\n",
      "60/60 [==============================] - 0s 6ms/step - loss: 0.3195 - mean_absolute_error: 0.3113 - mean_squared_error: 0.3195 - val_loss: 0.3551 - val_mean_absolute_error: 0.3158 - val_mean_squared_error: 0.3551\n",
      "Epoch 50/80\n",
      "60/60 [==============================] - 0s 6ms/step - loss: 0.3154 - mean_absolute_error: 0.3107 - mean_squared_error: 0.3154 - val_loss: 0.3563 - val_mean_absolute_error: 0.3135 - val_mean_squared_error: 0.3563\n",
      "Epoch 51/80\n",
      "60/60 [==============================] - 0s 6ms/step - loss: 0.3172 - mean_absolute_error: 0.3103 - mean_squared_error: 0.3172 - val_loss: 0.3562 - val_mean_absolute_error: 0.3169 - val_mean_squared_error: 0.3562\n",
      "Epoch 52/80\n",
      "60/60 [==============================] - 0s 6ms/step - loss: 0.3154 - mean_absolute_error: 0.3099 - mean_squared_error: 0.3154 - val_loss: 0.3553 - val_mean_absolute_error: 0.3133 - val_mean_squared_error: 0.3553\n",
      "Epoch 53/80\n",
      "60/60 [==============================] - 0s 6ms/step - loss: 0.3122 - mean_absolute_error: 0.3086 - mean_squared_error: 0.3122 - val_loss: 0.3581 - val_mean_absolute_error: 0.3169 - val_mean_squared_error: 0.3581\n",
      "Epoch 54/80\n",
      "60/60 [==============================] - 0s 6ms/step - loss: 0.3094 - mean_absolute_error: 0.3072 - mean_squared_error: 0.3094 - val_loss: 0.3527 - val_mean_absolute_error: 0.3133 - val_mean_squared_error: 0.3527\n",
      "Epoch 55/80\n",
      "60/60 [==============================] - 0s 6ms/step - loss: 0.3141 - mean_absolute_error: 0.3092 - mean_squared_error: 0.3141 - val_loss: 0.3547 - val_mean_absolute_error: 0.3151 - val_mean_squared_error: 0.3547\n",
      "Epoch 56/80\n",
      "60/60 [==============================] - 0s 6ms/step - loss: 0.3098 - mean_absolute_error: 0.3077 - mean_squared_error: 0.3098 - val_loss: 0.3515 - val_mean_absolute_error: 0.3121 - val_mean_squared_error: 0.3515\n",
      "Epoch 57/80\n",
      "60/60 [==============================] - 0s 6ms/step - loss: 0.3065 - mean_absolute_error: 0.3056 - mean_squared_error: 0.3065 - val_loss: 0.3547 - val_mean_absolute_error: 0.3123 - val_mean_squared_error: 0.3547\n",
      "Epoch 58/80\n",
      "60/60 [==============================] - 0s 6ms/step - loss: 0.3067 - mean_absolute_error: 0.3053 - mean_squared_error: 0.3067 - val_loss: 0.3533 - val_mean_absolute_error: 0.3156 - val_mean_squared_error: 0.3533\n",
      "Epoch 59/80\n",
      "60/60 [==============================] - 0s 7ms/step - loss: 0.3036 - mean_absolute_error: 0.3056 - mean_squared_error: 0.3036 - val_loss: 0.3523 - val_mean_absolute_error: 0.3130 - val_mean_squared_error: 0.3523\n",
      "Epoch 60/80\n",
      "60/60 [==============================] - 0s 6ms/step - loss: 0.2996 - mean_absolute_error: 0.3041 - mean_squared_error: 0.2996 - val_loss: 0.3508 - val_mean_absolute_error: 0.3123 - val_mean_squared_error: 0.3508\n",
      "Epoch 61/80\n",
      "60/60 [==============================] - 0s 6ms/step - loss: 0.2996 - mean_absolute_error: 0.3044 - mean_squared_error: 0.2996 - val_loss: 0.3506 - val_mean_absolute_error: 0.3133 - val_mean_squared_error: 0.3506\n",
      "Epoch 62/80\n",
      "60/60 [==============================] - 0s 6ms/step - loss: 0.2990 - mean_absolute_error: 0.3034 - mean_squared_error: 0.2990 - val_loss: 0.3498 - val_mean_absolute_error: 0.3124 - val_mean_squared_error: 0.3498\n",
      "Epoch 63/80\n",
      "60/60 [==============================] - 0s 6ms/step - loss: 0.3000 - mean_absolute_error: 0.3038 - mean_squared_error: 0.3000 - val_loss: 0.3514 - val_mean_absolute_error: 0.3123 - val_mean_squared_error: 0.3514\n",
      "Epoch 64/80\n",
      "60/60 [==============================] - 0s 6ms/step - loss: 0.3012 - mean_absolute_error: 0.3037 - mean_squared_error: 0.3012 - val_loss: 0.3496 - val_mean_absolute_error: 0.3125 - val_mean_squared_error: 0.3496\n",
      "Epoch 65/80\n",
      "60/60 [==============================] - 0s 6ms/step - loss: 0.2996 - mean_absolute_error: 0.3019 - mean_squared_error: 0.2996 - val_loss: 0.3490 - val_mean_absolute_error: 0.3098 - val_mean_squared_error: 0.3490\n",
      "Epoch 66/80\n",
      "60/60 [==============================] - 0s 7ms/step - loss: 0.2940 - mean_absolute_error: 0.3003 - mean_squared_error: 0.2940 - val_loss: 0.3472 - val_mean_absolute_error: 0.3128 - val_mean_squared_error: 0.3472\n",
      "Epoch 67/80\n",
      "60/60 [==============================] - 0s 6ms/step - loss: 0.2962 - mean_absolute_error: 0.3004 - mean_squared_error: 0.2962 - val_loss: 0.3471 - val_mean_absolute_error: 0.3101 - val_mean_squared_error: 0.3471\n",
      "Epoch 68/80\n",
      "60/60 [==============================] - 0s 7ms/step - loss: 0.2933 - mean_absolute_error: 0.2994 - mean_squared_error: 0.2933 - val_loss: 0.3467 - val_mean_absolute_error: 0.3115 - val_mean_squared_error: 0.3467\n",
      "Epoch 69/80\n",
      "60/60 [==============================] - 0s 7ms/step - loss: 0.2965 - mean_absolute_error: 0.3010 - mean_squared_error: 0.2965 - val_loss: 0.3469 - val_mean_absolute_error: 0.3105 - val_mean_squared_error: 0.3469\n",
      "Epoch 70/80\n",
      "60/60 [==============================] - 0s 6ms/step - loss: 0.2943 - mean_absolute_error: 0.2998 - mean_squared_error: 0.2943 - val_loss: 0.3472 - val_mean_absolute_error: 0.3099 - val_mean_squared_error: 0.3472\n",
      "Epoch 71/80\n",
      "60/60 [==============================] - 0s 6ms/step - loss: 0.2907 - mean_absolute_error: 0.2979 - mean_squared_error: 0.2907 - val_loss: 0.3464 - val_mean_absolute_error: 0.3100 - val_mean_squared_error: 0.3464\n",
      "Epoch 72/80\n",
      "60/60 [==============================] - 0s 6ms/step - loss: 0.2933 - mean_absolute_error: 0.2998 - mean_squared_error: 0.2933 - val_loss: 0.3450 - val_mean_absolute_error: 0.3082 - val_mean_squared_error: 0.3450\n",
      "Epoch 73/80\n",
      "60/60 [==============================] - 0s 6ms/step - loss: 0.2904 - mean_absolute_error: 0.2977 - mean_squared_error: 0.2904 - val_loss: 0.3455 - val_mean_absolute_error: 0.3100 - val_mean_squared_error: 0.3455\n",
      "Epoch 74/80\n",
      "60/60 [==============================] - 0s 6ms/step - loss: 0.2914 - mean_absolute_error: 0.2977 - mean_squared_error: 0.2914 - val_loss: 0.3478 - val_mean_absolute_error: 0.3084 - val_mean_squared_error: 0.3478\n",
      "Epoch 75/80\n",
      "60/60 [==============================] - 0s 6ms/step - loss: 0.2875 - mean_absolute_error: 0.2976 - mean_squared_error: 0.2875 - val_loss: 0.3461 - val_mean_absolute_error: 0.3091 - val_mean_squared_error: 0.3461\n",
      "Epoch 76/80\n",
      "60/60 [==============================] - 0s 6ms/step - loss: 0.2865 - mean_absolute_error: 0.2972 - mean_squared_error: 0.2865 - val_loss: 0.3446 - val_mean_absolute_error: 0.3078 - val_mean_squared_error: 0.3446\n",
      "Epoch 77/80\n",
      "60/60 [==============================] - 0s 6ms/step - loss: 0.2839 - mean_absolute_error: 0.2963 - mean_squared_error: 0.2839 - val_loss: 0.3436 - val_mean_absolute_error: 0.3076 - val_mean_squared_error: 0.3436\n",
      "Epoch 78/80\n",
      "60/60 [==============================] - 0s 6ms/step - loss: 0.2846 - mean_absolute_error: 0.2959 - mean_squared_error: 0.2846 - val_loss: 0.3432 - val_mean_absolute_error: 0.3110 - val_mean_squared_error: 0.3432\n",
      "Epoch 79/80\n",
      "60/60 [==============================] - 0s 7ms/step - loss: 0.2828 - mean_absolute_error: 0.2945 - mean_squared_error: 0.2828 - val_loss: 0.3484 - val_mean_absolute_error: 0.3099 - val_mean_squared_error: 0.3484\n",
      "Epoch 80/80\n",
      "60/60 [==============================] - 0s 6ms/step - loss: 0.2816 - mean_absolute_error: 0.2935 - mean_squared_error: 0.2816 - val_loss: 0.3425 - val_mean_absolute_error: 0.3087 - val_mean_squared_error: 0.3425\n"
     ]
    },
    {
     "data": {
      "image/png": "[encoded data removed]",
      "text/plain": [
       "<Figure size 700x400 with 1 Axes>"
      ]
     },
     "metadata": {},
     "output_type": "display_data"
    },
    {
     "name": "stdout",
     "output_type": "stream",
     "text": [
      "13/13 [==============================] - 0s 2ms/step\n"
     ]
    },
    {
     "data": {
      "image/png": "[encoded data removed]",
      "text/plain": [
       "<Figure size 600x500 with 2 Axes>"
      ]
     },
     "metadata": {},
     "output_type": "display_data"
    }
   ],
   "source": [
    "model = Sequential([  \n",
    "    Input(shape=(latitude, longitude, channels)),\n",
    "    Conv2D(filters = 16, kernel_size = (3,3), padding = 'same', activation = 'relu'),\n",
    "    MaxPooling2D(pool_size = (2,2)),\n",
    "    Conv2D(filters = 32, kernel_size = (3,3), padding = 'same', activation = 'relu'),\n",
    "    # MaxPooling2D(pool_size = (2,2)),                                                    #2 <-- Comment in this line\n",
    "    # Conv2D(filters = 64, kernel_size = (3,3), padding = 'same', activation = 'relu'),   #2 <-- Comment in this line\n",
    "    BatchNormalization(),\n",
    "    MaxPooling2D(pool_size = (2,2)),\n",
    "    Dropout(0.25),                         #4 <-- Change the dropout from 0.25 to 0.0\n",
    "    Flatten(),\n",
    "    Dense(units = 100, activation = 'relu'),  #1 <-- Change the units of the Dense Layers from 100 to 10\n",
    "    Dense(units = 100, activation = 'relu'),  #1 <-- Change the units of the Dense Layers from 100 to 10\n",
    "    Dropout(0.25),                         #4 <-- Change the dropout from 0.25 to 0.0\n",
    "    Dense(units = len(facet_list), activation = 'linear') ])\n",
    "\n",
    "model.summary()\n",
    "\n",
    "model.compile(loss = 'mean_squared_error',          #3 <-- Change Loss Function Here from mean_squared_error to mean_absolute_error\n",
    "              metrics = [\"mean_absolute_error\", \"mean_squared_error\"], \n",
    "              optimizer = RMSprop(learning_rate=1e-4))\n",
    "\n",
    "epochs = 80\n",
    "batch_size = 32\n",
    "\n",
    "callback = [EarlyStopping(monitor='val_loss', patience=5, mode='min')]\n",
    "\n",
    "hist = model.fit(train_atmos, train_opg, \n",
    "                  batch_size = batch_size,\n",
    "                  epochs = epochs,                      \n",
    "                  validation_data = (val_atmos, val_opg),\n",
    "                  callbacks=[callback],\n",
    "                  verbose = 1)                     # <-- If you want to silence training, set to 0, if you want to watch it train, set to 1\n",
    "\n",
    "plot_loss(hist, 'model_03_change_architecture')\n",
    "plot_act_pred(model, hist, 'model_03_change_architecture')"
   ]
  },
  {
   "cell_type": "markdown",
   "metadata": {},
   "source": [
    "#### Notice the differences between outputs when changing the hyperparameters:\n",
    "1. `Change the Dense layers to have units=10`:\n",
    "  The number of trainable parameters decreases considerably from 95,678 to 13,714. Though the mean squared error reaches a minimum around 80 epochs, the OPG heatmap indicates a decrease in r^2 and an increase in error. Overall, the model is less able to predict more extreme OPGs. Possibiliy from too little parameters? Possibly the patience is too sensitive and it should train for longer?\n",
    "\n",
    "2. `Uncomment the additional MaxPooling2D and Conv2D layers`:\n",
    "  Additional MaxPooling2D and Conv2D layers decreased the number of trainable parameters from 95,614 to 75,774. Based on the mean squared error, the model seems to reach a minimum in error somewhere around 60 epochs. The addition of MaxPooling2D and Conv2D layers did not significantly improve or worsen the OPG predictions. More layers don't always improve the model?\n",
    "\n",
    "3. `Change the loss function to mean_absolute_error`:\n",
    "  The number of trainable parameters are consistent. Based on the plot of mean absolute error by epoch, the model tends to train very quickly in the beginning and trains slowly until ending. The OPG heatmap shows OPGs are more underpredicted than when using mean_squared_error, most likely due to the loss function. Mean squared error, since it is squared, forces the model to focus more on larger loss values.\n",
    "\n",
    "4. `Set Dropout to zero`:\n",
    "   The number of trainable parameters are consistent. Based on the plot of mean squared error by epoch, the model tends to train very quickly, possibly ending before epoch 20. This can cause the model to overfitting to the training data. \n",
    "  \n",
    "\n",
    "#### What you choose for hyperparameters and structure all depends on what your goals are. "
   ]
  }
 ],
 "metadata": {
  "kernelspec": {
   "display_name": "Python [conda env:jovyan-cnn_env_mk2]",
   "language": "python",
   "name": "conda-env-jovyan-cnn_env_mk2-py"
  },
  "language_info": {
   "codemirror_mode": {
    "name": "ipython",
    "version": 3
   },
   "file_extension": ".py",
   "mimetype": "text/x-python",
   "name": "python",
   "nbconvert_exporter": "python",
   "pygments_lexer": "ipython3",
   "version": "3.11.8"
  }
 },
 "nbformat": 4,
 "nbformat_minor": 4
}
