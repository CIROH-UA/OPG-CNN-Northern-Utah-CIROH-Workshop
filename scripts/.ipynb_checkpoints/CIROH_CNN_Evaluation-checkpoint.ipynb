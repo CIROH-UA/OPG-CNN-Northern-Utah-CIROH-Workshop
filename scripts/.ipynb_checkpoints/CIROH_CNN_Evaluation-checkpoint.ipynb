{
 "cells": [
  {
   "cell_type": "markdown",
   "id": "fe280deb-3c1c-4434-bf95-44bafc8e74aa",
   "metadata": {},
   "source": [
    "# CIROH Developers Conference: Hydrological Applications of ML\n",
    "## CNNs for Predicting Daily Orographic Precipitation Gradients for Atmospheric Downscaling"
   ]
  },
  {
   "cell_type": "markdown",
   "id": "be7b219a-fe5f-4151-9f77-4dfbe81f9926",
   "metadata": {},
   "source": [
    "### First, lets finalize our CNN for predicting OPGs"
   ]
  },
  {
   "cell_type": "markdown",
   "id": "b068861e",
   "metadata": {},
   "source": [
    "##### Load in python libraries."
   ]
  },
  {
   "cell_type": "code",
   "execution_count": 51,
   "id": "d64e195b-1f6a-42d0-a5f8-713442194a85",
   "metadata": {},
   "outputs": [],
   "source": [
    "# Machine learning library\n",
    "import tensorflow as tf\n",
    "from tensorflow.keras.models import Sequential\n",
    "from tensorflow.keras.layers import (Input, Conv2D,\n",
    "                          Dense,\n",
    "                          ReLU,LeakyReLU,\n",
    "                          BatchNormalization, \n",
    "                          MaxPooling2D, \n",
    "                          Dropout,\n",
    "                          Flatten)\n",
    "from tensorflow.keras.optimizers import RMSprop\n",
    "from tensorflow.keras.callbacks import EarlyStopping\n",
    "\n",
    "# Data manipulation\n",
    "import pandas as pd\n",
    "import numpy as np\n",
    "import xarray as xr\n",
    "\n",
    "# Plotting\n",
    "import matplotlib.pyplot as plt\n",
    "from matplotlib import colors\n",
    "import nclcmaps as ncm\n",
    "import cartopy.crs as ccrs"
   ]
  },
  {
   "cell_type": "markdown",
   "id": "5e37a161",
   "metadata": {},
   "source": [
    "##### Load in atmospheric and OPG data. Standardize the variables. Create atmospheric variable."
   ]
  },
  {
   "cell_type": "code",
   "execution_count": 71,
   "id": "10cbc6cc-3061-424f-9e6d-e6baeb28cb11",
   "metadata": {},
   "outputs": [],
   "source": [
    "# load in the atmospheric data\n",
    "path      = \"../datasets/era5_atmos/\"\n",
    "IVT       = xr.open_dataset(f\"{path}IVT_sfc.nc\")\n",
    "precip    = xr.open_dataset(f\"{path}precip_sfc.nc\")*1000\n",
    "temp700   = xr.open_dataset(f\"{path}temp_700.nc\")-273.15\n",
    "uwinds700 = xr.open_dataset(f\"{path}uwnd_700.nc\")\n",
    "vwinds700 = xr.open_dataset(f\"{path}vwnd_700.nc\")\n",
    "hgt500    = xr.open_dataset(f\"{path}hgt_500.nc\")/9.81\n",
    "\n",
    "latitudes  = hgt500['latitude']\n",
    "longitudes = hgt500['longitude']\n",
    "\n",
    "# load in the OPGs\n",
    "path = \"../datasets/facets_and_opgs/\"\n",
    "opg  = pd.read_csv(f\"{path}winter_northernUT_opg.csv\", index_col=0)\n",
    "facet_list = opg.columns.values\n",
    "opg = opg.values\n",
    "\n",
    "# Standardize\n",
    "IVT_       = (IVT - IVT.mean(dim=\"time\")) / IVT.std(dim=\"time\")\n",
    "precip_    = (precip - precip.mean(dim=\"time\")) / precip.std(dim=\"time\")\n",
    "temp700_   = (temp700 - temp700.mean(dim=\"time\")) / temp700.std(dim=\"time\")\n",
    "uwinds700_ = (uwinds700 - uwinds700.mean(dim=\"time\")) / uwinds700.std(dim=\"time\")\n",
    "vwinds700_ = (vwinds700 - vwinds700.mean(dim=\"time\")) / vwinds700.std(dim=\"time\")\n",
    "hgt500_    = (hgt500 - hgt500.mean(dim=\"time\")) / hgt500.std(dim=\"time\")\n",
    "\n",
    "opg_mean = np.nanmean(opg, axis=0)\n",
    "opg_std  = np.nanstd(opg, axis=0)\n",
    "opg = (opg - opg_mean) / opg_std\n",
    "opg[np.isnan(opg)] = 0\n",
    "\n",
    "# Combine the atmospheric data into one array\n",
    "atmos = np.concatenate((IVT_.IVT.values[...,np.newaxis], \n",
    "                        precip_.precip.values[...,np.newaxis],\n",
    "                        temp700_.temp.values[...,np.newaxis],\n",
    "                        uwinds700_.uwnd.values[...,np.newaxis],\n",
    "                        vwinds700_.vwnd.values[...,np.newaxis],\n",
    "                        hgt500_.hgt.values[...,np.newaxis]), axis=3)"
   ]
  },
  {
   "cell_type": "markdown",
   "id": "1232f527",
   "metadata": {},
   "source": [
    "##### Create varaiables containing size of atmospheric 'images'."
   ]
  },
  {
   "cell_type": "code",
   "execution_count": 13,
   "id": "d894e625-6faa-49be-baf6-98d82127af21",
   "metadata": {},
   "outputs": [],
   "source": [
    "latitude  = 19\n",
    "longitude = 27\n",
    "channels  = 6"
   ]
  },
  {
   "cell_type": "markdown",
   "id": "909c48b6",
   "metadata": {},
   "source": [
    "##### Shuffle observation days and split the data into training, testing, and validation subsets."
   ]
  },
  {
   "cell_type": "code",
   "execution_count": 14,
   "id": "fccf9580-a088-4333-ad7d-a6676949908e",
   "metadata": {},
   "outputs": [
    {
     "name": "stdout",
     "output_type": "stream",
     "text": [
      "(406, 19, 27, 6)\n"
     ]
    }
   ],
   "source": [
    "np.random.seed(42)\n",
    "rand_ind = np.random.permutation(np.arange(np.shape(atmos)[0]))\n",
    "\n",
    "train_atmos = atmos[rand_ind[:1896], ...]\n",
    "test_atmos  = atmos[rand_ind[1896:2302], ...]\n",
    "val_atmos   = atmos[rand_ind[2302:], ...]\n",
    "\n",
    "train_opg = opg[rand_ind[:1896], ...]\n",
    "test_opg  = opg[rand_ind[1896:2302], ...]\n",
    "val_opg   = opg[rand_ind[2302:], ...]\n",
    "\n",
    "print(np.shape(test_atmos))"
   ]
  },
  {
   "cell_type": "markdown",
   "id": "9d0a5c8b",
   "metadata": {},
   "source": [
    "##### Define the training batch size (i.e., the number of images to import for any update step) and the CNN stucture."
   ]
  },
  {
   "cell_type": "code",
   "execution_count": 15,
   "id": "b3e34bec-fd5c-47dc-8dd4-c9158eda0bfa",
   "metadata": {},
   "outputs": [],
   "source": [
    "batch_size = 32\n",
    "\n",
    "def create_model():\n",
    "    model = Sequential([  \n",
    "        Input(shape=(latitude, longitude, channels), name='input'),\n",
    "        Conv2D(filters = 16, kernel_size = (3,3), padding = 'same', activation = 'relu', name='conv2D_01'),\n",
    "        MaxPooling2D(pool_size = (2,2)),\n",
    "        Conv2D(filters = 32, kernel_size = (3,3), padding = 'same', activation = 'relu', name='conv2D_02'),\n",
    "        BatchNormalization(),\n",
    "        MaxPooling2D(pool_size = (2,2)),\n",
    "        Dropout(.25),\n",
    "        Flatten(),\n",
    "        Dense(units = 100, activation = 'relu'),\n",
    "        Dense(units = 100, activation = 'relu'),\n",
    "        Dropout(.25),\n",
    "        Dense(units = len(facet_list))\n",
    "    ])\n",
    "    return model"
   ]
  },
  {
   "cell_type": "markdown",
   "id": "57c3f606",
   "metadata": {},
   "source": [
    "##### Create and compile the CNN, then fit to the training subset."
   ]
  },
  {
   "cell_type": "code",
   "execution_count": 16,
   "id": "b36bbfd5-b171-48dc-b286-45813df6d3a6",
   "metadata": {},
   "outputs": [
    {
     "data": {
      "text/html": [
       "<pre style=\"white-space:pre;overflow-x:auto;line-height:normal;font-family:Menlo,'DejaVu Sans Mono',consolas,'Courier New',monospace\"><span style=\"font-weight: bold\">Model: \"sequential_2\"</span>\n",
       "</pre>\n"
      ],
      "text/plain": [
       "\u001b[1mModel: \"sequential_2\"\u001b[0m\n"
      ]
     },
     "metadata": {},
     "output_type": "display_data"
    },
    {
     "data": {
      "text/html": [
       "<pre style=\"white-space:pre;overflow-x:auto;line-height:normal;font-family:Menlo,'DejaVu Sans Mono',consolas,'Courier New',monospace\">┏━━━━━━━━━━━━━━━━━━━━━━━━━━━━━━━━━┳━━━━━━━━━━━━━━━━━━━━━━━━┳━━━━━━━━━━━━━━━┓\n",
       "┃<span style=\"font-weight: bold\"> Layer (type)                    </span>┃<span style=\"font-weight: bold\"> Output Shape           </span>┃<span style=\"font-weight: bold\">       Param # </span>┃\n",
       "┡━━━━━━━━━━━━━━━━━━━━━━━━━━━━━━━━━╇━━━━━━━━━━━━━━━━━━━━━━━━╇━━━━━━━━━━━━━━━┩\n",
       "│ conv2D_01 (<span style=\"color: #0087ff; text-decoration-color: #0087ff\">Conv2D</span>)              │ (<span style=\"color: #00d7ff; text-decoration-color: #00d7ff\">None</span>, <span style=\"color: #00af00; text-decoration-color: #00af00\">19</span>, <span style=\"color: #00af00; text-decoration-color: #00af00\">27</span>, <span style=\"color: #00af00; text-decoration-color: #00af00\">16</span>)     │           <span style=\"color: #00af00; text-decoration-color: #00af00\">880</span> │\n",
       "├─────────────────────────────────┼────────────────────────┼───────────────┤\n",
       "│ max_pooling2d_4 (<span style=\"color: #0087ff; text-decoration-color: #0087ff\">MaxPooling2D</span>)  │ (<span style=\"color: #00d7ff; text-decoration-color: #00d7ff\">None</span>, <span style=\"color: #00af00; text-decoration-color: #00af00\">9</span>, <span style=\"color: #00af00; text-decoration-color: #00af00\">13</span>, <span style=\"color: #00af00; text-decoration-color: #00af00\">16</span>)      │             <span style=\"color: #00af00; text-decoration-color: #00af00\">0</span> │\n",
       "├─────────────────────────────────┼────────────────────────┼───────────────┤\n",
       "│ conv2D_02 (<span style=\"color: #0087ff; text-decoration-color: #0087ff\">Conv2D</span>)              │ (<span style=\"color: #00d7ff; text-decoration-color: #00d7ff\">None</span>, <span style=\"color: #00af00; text-decoration-color: #00af00\">9</span>, <span style=\"color: #00af00; text-decoration-color: #00af00\">13</span>, <span style=\"color: #00af00; text-decoration-color: #00af00\">32</span>)      │         <span style=\"color: #00af00; text-decoration-color: #00af00\">4,640</span> │\n",
       "├─────────────────────────────────┼────────────────────────┼───────────────┤\n",
       "│ batch_normalization_2           │ (<span style=\"color: #00d7ff; text-decoration-color: #00d7ff\">None</span>, <span style=\"color: #00af00; text-decoration-color: #00af00\">9</span>, <span style=\"color: #00af00; text-decoration-color: #00af00\">13</span>, <span style=\"color: #00af00; text-decoration-color: #00af00\">32</span>)      │           <span style=\"color: #00af00; text-decoration-color: #00af00\">128</span> │\n",
       "│ (<span style=\"color: #0087ff; text-decoration-color: #0087ff\">BatchNormalization</span>)            │                        │               │\n",
       "├─────────────────────────────────┼────────────────────────┼───────────────┤\n",
       "│ max_pooling2d_5 (<span style=\"color: #0087ff; text-decoration-color: #0087ff\">MaxPooling2D</span>)  │ (<span style=\"color: #00d7ff; text-decoration-color: #00d7ff\">None</span>, <span style=\"color: #00af00; text-decoration-color: #00af00\">4</span>, <span style=\"color: #00af00; text-decoration-color: #00af00\">6</span>, <span style=\"color: #00af00; text-decoration-color: #00af00\">32</span>)       │             <span style=\"color: #00af00; text-decoration-color: #00af00\">0</span> │\n",
       "├─────────────────────────────────┼────────────────────────┼───────────────┤\n",
       "│ dropout_4 (<span style=\"color: #0087ff; text-decoration-color: #0087ff\">Dropout</span>)             │ (<span style=\"color: #00d7ff; text-decoration-color: #00d7ff\">None</span>, <span style=\"color: #00af00; text-decoration-color: #00af00\">4</span>, <span style=\"color: #00af00; text-decoration-color: #00af00\">6</span>, <span style=\"color: #00af00; text-decoration-color: #00af00\">32</span>)       │             <span style=\"color: #00af00; text-decoration-color: #00af00\">0</span> │\n",
       "├─────────────────────────────────┼────────────────────────┼───────────────┤\n",
       "│ flatten_2 (<span style=\"color: #0087ff; text-decoration-color: #0087ff\">Flatten</span>)             │ (<span style=\"color: #00d7ff; text-decoration-color: #00d7ff\">None</span>, <span style=\"color: #00af00; text-decoration-color: #00af00\">768</span>)            │             <span style=\"color: #00af00; text-decoration-color: #00af00\">0</span> │\n",
       "├─────────────────────────────────┼────────────────────────┼───────────────┤\n",
       "│ dense_6 (<span style=\"color: #0087ff; text-decoration-color: #0087ff\">Dense</span>)                 │ (<span style=\"color: #00d7ff; text-decoration-color: #00d7ff\">None</span>, <span style=\"color: #00af00; text-decoration-color: #00af00\">100</span>)            │        <span style=\"color: #00af00; text-decoration-color: #00af00\">76,900</span> │\n",
       "├─────────────────────────────────┼────────────────────────┼───────────────┤\n",
       "│ dense_7 (<span style=\"color: #0087ff; text-decoration-color: #0087ff\">Dense</span>)                 │ (<span style=\"color: #00d7ff; text-decoration-color: #00d7ff\">None</span>, <span style=\"color: #00af00; text-decoration-color: #00af00\">100</span>)            │        <span style=\"color: #00af00; text-decoration-color: #00af00\">10,100</span> │\n",
       "├─────────────────────────────────┼────────────────────────┼───────────────┤\n",
       "│ dropout_5 (<span style=\"color: #0087ff; text-decoration-color: #0087ff\">Dropout</span>)             │ (<span style=\"color: #00d7ff; text-decoration-color: #00d7ff\">None</span>, <span style=\"color: #00af00; text-decoration-color: #00af00\">100</span>)            │             <span style=\"color: #00af00; text-decoration-color: #00af00\">0</span> │\n",
       "├─────────────────────────────────┼────────────────────────┼───────────────┤\n",
       "│ dense_8 (<span style=\"color: #0087ff; text-decoration-color: #0087ff\">Dense</span>)                 │ (<span style=\"color: #00d7ff; text-decoration-color: #00d7ff\">None</span>, <span style=\"color: #00af00; text-decoration-color: #00af00\">30</span>)             │         <span style=\"color: #00af00; text-decoration-color: #00af00\">3,030</span> │\n",
       "└─────────────────────────────────┴────────────────────────┴───────────────┘\n",
       "</pre>\n"
      ],
      "text/plain": [
       "┏━━━━━━━━━━━━━━━━━━━━━━━━━━━━━━━━━┳━━━━━━━━━━━━━━━━━━━━━━━━┳━━━━━━━━━━━━━━━┓\n",
       "┃\u001b[1m \u001b[0m\u001b[1mLayer (type)                   \u001b[0m\u001b[1m \u001b[0m┃\u001b[1m \u001b[0m\u001b[1mOutput Shape          \u001b[0m\u001b[1m \u001b[0m┃\u001b[1m \u001b[0m\u001b[1m      Param #\u001b[0m\u001b[1m \u001b[0m┃\n",
       "┡━━━━━━━━━━━━━━━━━━━━━━━━━━━━━━━━━╇━━━━━━━━━━━━━━━━━━━━━━━━╇━━━━━━━━━━━━━━━┩\n",
       "│ conv2D_01 (\u001b[38;5;33mConv2D\u001b[0m)              │ (\u001b[38;5;45mNone\u001b[0m, \u001b[38;5;34m19\u001b[0m, \u001b[38;5;34m27\u001b[0m, \u001b[38;5;34m16\u001b[0m)     │           \u001b[38;5;34m880\u001b[0m │\n",
       "├─────────────────────────────────┼────────────────────────┼───────────────┤\n",
       "│ max_pooling2d_4 (\u001b[38;5;33mMaxPooling2D\u001b[0m)  │ (\u001b[38;5;45mNone\u001b[0m, \u001b[38;5;34m9\u001b[0m, \u001b[38;5;34m13\u001b[0m, \u001b[38;5;34m16\u001b[0m)      │             \u001b[38;5;34m0\u001b[0m │\n",
       "├─────────────────────────────────┼────────────────────────┼───────────────┤\n",
       "│ conv2D_02 (\u001b[38;5;33mConv2D\u001b[0m)              │ (\u001b[38;5;45mNone\u001b[0m, \u001b[38;5;34m9\u001b[0m, \u001b[38;5;34m13\u001b[0m, \u001b[38;5;34m32\u001b[0m)      │         \u001b[38;5;34m4,640\u001b[0m │\n",
       "├─────────────────────────────────┼────────────────────────┼───────────────┤\n",
       "│ batch_normalization_2           │ (\u001b[38;5;45mNone\u001b[0m, \u001b[38;5;34m9\u001b[0m, \u001b[38;5;34m13\u001b[0m, \u001b[38;5;34m32\u001b[0m)      │           \u001b[38;5;34m128\u001b[0m │\n",
       "│ (\u001b[38;5;33mBatchNormalization\u001b[0m)            │                        │               │\n",
       "├─────────────────────────────────┼────────────────────────┼───────────────┤\n",
       "│ max_pooling2d_5 (\u001b[38;5;33mMaxPooling2D\u001b[0m)  │ (\u001b[38;5;45mNone\u001b[0m, \u001b[38;5;34m4\u001b[0m, \u001b[38;5;34m6\u001b[0m, \u001b[38;5;34m32\u001b[0m)       │             \u001b[38;5;34m0\u001b[0m │\n",
       "├─────────────────────────────────┼────────────────────────┼───────────────┤\n",
       "│ dropout_4 (\u001b[38;5;33mDropout\u001b[0m)             │ (\u001b[38;5;45mNone\u001b[0m, \u001b[38;5;34m4\u001b[0m, \u001b[38;5;34m6\u001b[0m, \u001b[38;5;34m32\u001b[0m)       │             \u001b[38;5;34m0\u001b[0m │\n",
       "├─────────────────────────────────┼────────────────────────┼───────────────┤\n",
       "│ flatten_2 (\u001b[38;5;33mFlatten\u001b[0m)             │ (\u001b[38;5;45mNone\u001b[0m, \u001b[38;5;34m768\u001b[0m)            │             \u001b[38;5;34m0\u001b[0m │\n",
       "├─────────────────────────────────┼────────────────────────┼───────────────┤\n",
       "│ dense_6 (\u001b[38;5;33mDense\u001b[0m)                 │ (\u001b[38;5;45mNone\u001b[0m, \u001b[38;5;34m100\u001b[0m)            │        \u001b[38;5;34m76,900\u001b[0m │\n",
       "├─────────────────────────────────┼────────────────────────┼───────────────┤\n",
       "│ dense_7 (\u001b[38;5;33mDense\u001b[0m)                 │ (\u001b[38;5;45mNone\u001b[0m, \u001b[38;5;34m100\u001b[0m)            │        \u001b[38;5;34m10,100\u001b[0m │\n",
       "├─────────────────────────────────┼────────────────────────┼───────────────┤\n",
       "│ dropout_5 (\u001b[38;5;33mDropout\u001b[0m)             │ (\u001b[38;5;45mNone\u001b[0m, \u001b[38;5;34m100\u001b[0m)            │             \u001b[38;5;34m0\u001b[0m │\n",
       "├─────────────────────────────────┼────────────────────────┼───────────────┤\n",
       "│ dense_8 (\u001b[38;5;33mDense\u001b[0m)                 │ (\u001b[38;5;45mNone\u001b[0m, \u001b[38;5;34m30\u001b[0m)             │         \u001b[38;5;34m3,030\u001b[0m │\n",
       "└─────────────────────────────────┴────────────────────────┴───────────────┘\n"
      ]
     },
     "metadata": {},
     "output_type": "display_data"
    },
    {
     "data": {
      "text/html": [
       "<pre style=\"white-space:pre;overflow-x:auto;line-height:normal;font-family:Menlo,'DejaVu Sans Mono',consolas,'Courier New',monospace\"><span style=\"font-weight: bold\"> Total params: </span><span style=\"color: #00af00; text-decoration-color: #00af00\">95,678</span> (373.74 KB)\n",
       "</pre>\n"
      ],
      "text/plain": [
       "\u001b[1m Total params: \u001b[0m\u001b[38;5;34m95,678\u001b[0m (373.74 KB)\n"
      ]
     },
     "metadata": {},
     "output_type": "display_data"
    },
    {
     "data": {
      "text/html": [
       "<pre style=\"white-space:pre;overflow-x:auto;line-height:normal;font-family:Menlo,'DejaVu Sans Mono',consolas,'Courier New',monospace\"><span style=\"font-weight: bold\"> Trainable params: </span><span style=\"color: #00af00; text-decoration-color: #00af00\">95,614</span> (373.49 KB)\n",
       "</pre>\n"
      ],
      "text/plain": [
       "\u001b[1m Trainable params: \u001b[0m\u001b[38;5;34m95,614\u001b[0m (373.49 KB)\n"
      ]
     },
     "metadata": {},
     "output_type": "display_data"
    },
    {
     "data": {
      "text/html": [
       "<pre style=\"white-space:pre;overflow-x:auto;line-height:normal;font-family:Menlo,'DejaVu Sans Mono',consolas,'Courier New',monospace\"><span style=\"font-weight: bold\"> Non-trainable params: </span><span style=\"color: #00af00; text-decoration-color: #00af00\">64</span> (256.00 B)\n",
       "</pre>\n"
      ],
      "text/plain": [
       "\u001b[1m Non-trainable params: \u001b[0m\u001b[38;5;34m64\u001b[0m (256.00 B)\n"
      ]
     },
     "metadata": {},
     "output_type": "display_data"
    },
    {
     "name": "stdout",
     "output_type": "stream",
     "text": [
      "Epoch 1/80\n",
      "\u001b[1m60/60\u001b[0m \u001b[32m━━━━━━━━━━━━━━━━━━━━\u001b[0m\u001b[37m\u001b[0m \u001b[1m1s\u001b[0m 6ms/step - loss: 1.5544 - mean_absolute_error: 0.9056 - val_loss: 0.5077 - val_mean_absolute_error: 0.3855\n",
      "Epoch 2/80\n",
      "\u001b[1m60/60\u001b[0m \u001b[32m━━━━━━━━━━━━━━━━━━━━\u001b[0m\u001b[37m\u001b[0m \u001b[1m0s\u001b[0m 4ms/step - loss: 0.7696 - mean_absolute_error: 0.6058 - val_loss: 0.4921 - val_mean_absolute_error: 0.3725\n",
      "Epoch 3/80\n",
      "\u001b[1m60/60\u001b[0m \u001b[32m━━━━━━━━━━━━━━━━━━━━\u001b[0m\u001b[37m\u001b[0m \u001b[1m0s\u001b[0m 4ms/step - loss: 0.6043 - mean_absolute_error: 0.5116 - val_loss: 0.4791 - val_mean_absolute_error: 0.3668\n",
      "Epoch 4/80\n",
      "\u001b[1m60/60\u001b[0m \u001b[32m━━━━━━━━━━━━━━━━━━━━\u001b[0m\u001b[37m\u001b[0m \u001b[1m0s\u001b[0m 4ms/step - loss: 0.5347 - mean_absolute_error: 0.4621 - val_loss: 0.4619 - val_mean_absolute_error: 0.3616\n",
      "Epoch 5/80\n",
      "\u001b[1m60/60\u001b[0m \u001b[32m━━━━━━━━━━━━━━━━━━━━\u001b[0m\u001b[37m\u001b[0m \u001b[1m0s\u001b[0m 4ms/step - loss: 0.4795 - mean_absolute_error: 0.4268 - val_loss: 0.4443 - val_mean_absolute_error: 0.3580\n",
      "Epoch 6/80\n",
      "\u001b[1m60/60\u001b[0m \u001b[32m━━━━━━━━━━━━━━━━━━━━\u001b[0m\u001b[37m\u001b[0m \u001b[1m0s\u001b[0m 4ms/step - loss: 0.4488 - mean_absolute_error: 0.4021 - val_loss: 0.4306 - val_mean_absolute_error: 0.3551\n",
      "Epoch 7/80\n",
      "\u001b[1m60/60\u001b[0m \u001b[32m━━━━━━━━━━━━━━━━━━━━\u001b[0m\u001b[37m\u001b[0m \u001b[1m0s\u001b[0m 4ms/step - loss: 0.4322 - mean_absolute_error: 0.3925 - val_loss: 0.4215 - val_mean_absolute_error: 0.3495\n",
      "Epoch 8/80\n",
      "\u001b[1m60/60\u001b[0m \u001b[32m━━━━━━━━━━━━━━━━━━━━\u001b[0m\u001b[37m\u001b[0m \u001b[1m0s\u001b[0m 4ms/step - loss: 0.4286 - mean_absolute_error: 0.3848 - val_loss: 0.4143 - val_mean_absolute_error: 0.3466\n",
      "Epoch 9/80\n",
      "\u001b[1m60/60\u001b[0m \u001b[32m━━━━━━━━━━━━━━━━━━━━\u001b[0m\u001b[37m\u001b[0m \u001b[1m0s\u001b[0m 5ms/step - loss: 0.4055 - mean_absolute_error: 0.3735 - val_loss: 0.4063 - val_mean_absolute_error: 0.3438\n",
      "Epoch 10/80\n",
      "\u001b[1m60/60\u001b[0m \u001b[32m━━━━━━━━━━━━━━━━━━━━\u001b[0m\u001b[37m\u001b[0m \u001b[1m0s\u001b[0m 5ms/step - loss: 0.4287 - mean_absolute_error: 0.3762 - val_loss: 0.4037 - val_mean_absolute_error: 0.3368\n",
      "Epoch 11/80\n",
      "\u001b[1m60/60\u001b[0m \u001b[32m━━━━━━━━━━━━━━━━━━━━\u001b[0m\u001b[37m\u001b[0m \u001b[1m0s\u001b[0m 4ms/step - loss: 0.4001 - mean_absolute_error: 0.3556 - val_loss: 0.3948 - val_mean_absolute_error: 0.3342\n",
      "Epoch 12/80\n",
      "\u001b[1m60/60\u001b[0m \u001b[32m━━━━━━━━━━━━━━━━━━━━\u001b[0m\u001b[37m\u001b[0m \u001b[1m0s\u001b[0m 4ms/step - loss: 0.3965 - mean_absolute_error: 0.3564 - val_loss: 0.3919 - val_mean_absolute_error: 0.3314\n",
      "Epoch 13/80\n",
      "\u001b[1m60/60\u001b[0m \u001b[32m━━━━━━━━━━━━━━━━━━━━\u001b[0m\u001b[37m\u001b[0m \u001b[1m0s\u001b[0m 4ms/step - loss: 0.3945 - mean_absolute_error: 0.3548 - val_loss: 0.3878 - val_mean_absolute_error: 0.3310\n",
      "Epoch 14/80\n",
      "\u001b[1m60/60\u001b[0m \u001b[32m━━━━━━━━━━━━━━━━━━━━\u001b[0m\u001b[37m\u001b[0m \u001b[1m0s\u001b[0m 4ms/step - loss: 0.4126 - mean_absolute_error: 0.3601 - val_loss: 0.3882 - val_mean_absolute_error: 0.3284\n",
      "Epoch 15/80\n",
      "\u001b[1m60/60\u001b[0m \u001b[32m━━━━━━━━━━━━━━━━━━━━\u001b[0m\u001b[37m\u001b[0m \u001b[1m0s\u001b[0m 4ms/step - loss: 0.3900 - mean_absolute_error: 0.3506 - val_loss: 0.3868 - val_mean_absolute_error: 0.3281\n",
      "Epoch 16/80\n",
      "\u001b[1m60/60\u001b[0m \u001b[32m━━━━━━━━━━━━━━━━━━━━\u001b[0m\u001b[37m\u001b[0m \u001b[1m0s\u001b[0m 4ms/step - loss: 0.3660 - mean_absolute_error: 0.3418 - val_loss: 0.3850 - val_mean_absolute_error: 0.3266\n",
      "Epoch 17/80\n",
      "\u001b[1m60/60\u001b[0m \u001b[32m━━━━━━━━━━━━━━━━━━━━\u001b[0m\u001b[37m\u001b[0m \u001b[1m0s\u001b[0m 4ms/step - loss: 0.3638 - mean_absolute_error: 0.3385 - val_loss: 0.3820 - val_mean_absolute_error: 0.3280\n",
      "Epoch 18/80\n",
      "\u001b[1m60/60\u001b[0m \u001b[32m━━━━━━━━━━━━━━━━━━━━\u001b[0m\u001b[37m\u001b[0m \u001b[1m0s\u001b[0m 4ms/step - loss: 0.3721 - mean_absolute_error: 0.3395 - val_loss: 0.3789 - val_mean_absolute_error: 0.3259\n",
      "Epoch 19/80\n",
      "\u001b[1m60/60\u001b[0m \u001b[32m━━━━━━━━━━━━━━━━━━━━\u001b[0m\u001b[37m\u001b[0m \u001b[1m0s\u001b[0m 4ms/step - loss: 0.3741 - mean_absolute_error: 0.3374 - val_loss: 0.3788 - val_mean_absolute_error: 0.3247\n",
      "Epoch 20/80\n",
      "\u001b[1m60/60\u001b[0m \u001b[32m━━━━━━━━━━━━━━━━━━━━\u001b[0m\u001b[37m\u001b[0m \u001b[1m0s\u001b[0m 4ms/step - loss: 0.3876 - mean_absolute_error: 0.3431 - val_loss: 0.3774 - val_mean_absolute_error: 0.3249\n",
      "Epoch 21/80\n",
      "\u001b[1m60/60\u001b[0m \u001b[32m━━━━━━━━━━━━━━━━━━━━\u001b[0m\u001b[37m\u001b[0m \u001b[1m0s\u001b[0m 4ms/step - loss: 0.3766 - mean_absolute_error: 0.3408 - val_loss: 0.3792 - val_mean_absolute_error: 0.3238\n",
      "Epoch 22/80\n",
      "\u001b[1m60/60\u001b[0m \u001b[32m━━━━━━━━━━━━━━━━━━━━\u001b[0m\u001b[37m\u001b[0m \u001b[1m0s\u001b[0m 4ms/step - loss: 0.3499 - mean_absolute_error: 0.3285 - val_loss: 0.3798 - val_mean_absolute_error: 0.3232\n",
      "Epoch 23/80\n",
      "\u001b[1m60/60\u001b[0m \u001b[32m━━━━━━━━━━━━━━━━━━━━\u001b[0m\u001b[37m\u001b[0m \u001b[1m0s\u001b[0m 4ms/step - loss: 0.3592 - mean_absolute_error: 0.3325 - val_loss: 0.3780 - val_mean_absolute_error: 0.3233\n",
      "Epoch 24/80\n",
      "\u001b[1m60/60\u001b[0m \u001b[32m━━━━━━━━━━━━━━━━━━━━\u001b[0m\u001b[37m\u001b[0m \u001b[1m0s\u001b[0m 4ms/step - loss: 0.3569 - mean_absolute_error: 0.3277 - val_loss: 0.3757 - val_mean_absolute_error: 0.3229\n",
      "Epoch 25/80\n",
      "\u001b[1m60/60\u001b[0m \u001b[32m━━━━━━━━━━━━━━━━━━━━\u001b[0m\u001b[37m\u001b[0m \u001b[1m0s\u001b[0m 4ms/step - loss: 0.3244 - mean_absolute_error: 0.3190 - val_loss: 0.3769 - val_mean_absolute_error: 0.3251\n",
      "Epoch 26/80\n",
      "\u001b[1m60/60\u001b[0m \u001b[32m━━━━━━━━━━━━━━━━━━━━\u001b[0m\u001b[37m\u001b[0m \u001b[1m0s\u001b[0m 4ms/step - loss: 0.3439 - mean_absolute_error: 0.3268 - val_loss: 0.3776 - val_mean_absolute_error: 0.3229\n",
      "Epoch 27/80\n",
      "\u001b[1m60/60\u001b[0m \u001b[32m━━━━━━━━━━━━━━━━━━━━\u001b[0m\u001b[37m\u001b[0m \u001b[1m0s\u001b[0m 4ms/step - loss: 0.3345 - mean_absolute_error: 0.3213 - val_loss: 0.3714 - val_mean_absolute_error: 0.3204\n",
      "Epoch 28/80\n",
      "\u001b[1m60/60\u001b[0m \u001b[32m━━━━━━━━━━━━━━━━━━━━\u001b[0m\u001b[37m\u001b[0m \u001b[1m0s\u001b[0m 4ms/step - loss: 0.3314 - mean_absolute_error: 0.3204 - val_loss: 0.3741 - val_mean_absolute_error: 0.3226\n",
      "Epoch 29/80\n",
      "\u001b[1m60/60\u001b[0m \u001b[32m━━━━━━━━━━━━━━━━━━━━\u001b[0m\u001b[37m\u001b[0m \u001b[1m0s\u001b[0m 4ms/step - loss: 0.3543 - mean_absolute_error: 0.3329 - val_loss: 0.3732 - val_mean_absolute_error: 0.3231\n",
      "Epoch 30/80\n",
      "\u001b[1m60/60\u001b[0m \u001b[32m━━━━━━━━━━━━━━━━━━━━\u001b[0m\u001b[37m\u001b[0m \u001b[1m0s\u001b[0m 4ms/step - loss: 0.3559 - mean_absolute_error: 0.3291 - val_loss: 0.3711 - val_mean_absolute_error: 0.3207\n",
      "Epoch 31/80\n",
      "\u001b[1m60/60\u001b[0m \u001b[32m━━━━━━━━━━━━━━━━━━━━\u001b[0m\u001b[37m\u001b[0m \u001b[1m0s\u001b[0m 4ms/step - loss: 0.3284 - mean_absolute_error: 0.3168 - val_loss: 0.3720 - val_mean_absolute_error: 0.3217\n",
      "Epoch 32/80\n",
      "\u001b[1m60/60\u001b[0m \u001b[32m━━━━━━━━━━━━━━━━━━━━\u001b[0m\u001b[37m\u001b[0m \u001b[1m0s\u001b[0m 4ms/step - loss: 0.3396 - mean_absolute_error: 0.3233 - val_loss: 0.3709 - val_mean_absolute_error: 0.3201\n",
      "Epoch 33/80\n",
      "\u001b[1m60/60\u001b[0m \u001b[32m━━━━━━━━━━━━━━━━━━━━\u001b[0m\u001b[37m\u001b[0m \u001b[1m0s\u001b[0m 4ms/step - loss: 0.3515 - mean_absolute_error: 0.3261 - val_loss: 0.3676 - val_mean_absolute_error: 0.3189\n",
      "Epoch 34/80\n",
      "\u001b[1m60/60\u001b[0m \u001b[32m━━━━━━━━━━━━━━━━━━━━\u001b[0m\u001b[37m\u001b[0m \u001b[1m0s\u001b[0m 4ms/step - loss: 0.3387 - mean_absolute_error: 0.3211 - val_loss: 0.3704 - val_mean_absolute_error: 0.3214\n",
      "Epoch 35/80\n",
      "\u001b[1m60/60\u001b[0m \u001b[32m━━━━━━━━━━━━━━━━━━━━\u001b[0m\u001b[37m\u001b[0m \u001b[1m0s\u001b[0m 4ms/step - loss: 0.3631 - mean_absolute_error: 0.3314 - val_loss: 0.3706 - val_mean_absolute_error: 0.3192\n",
      "Epoch 36/80\n",
      "\u001b[1m60/60\u001b[0m \u001b[32m━━━━━━━━━━━━━━━━━━━━\u001b[0m\u001b[37m\u001b[0m \u001b[1m0s\u001b[0m 4ms/step - loss: 0.3314 - mean_absolute_error: 0.3180 - val_loss: 0.3688 - val_mean_absolute_error: 0.3211\n",
      "Epoch 37/80\n",
      "\u001b[1m60/60\u001b[0m \u001b[32m━━━━━━━━━━━━━━━━━━━━\u001b[0m\u001b[37m\u001b[0m \u001b[1m0s\u001b[0m 5ms/step - loss: 0.3415 - mean_absolute_error: 0.3205 - val_loss: 0.3649 - val_mean_absolute_error: 0.3188\n",
      "Epoch 38/80\n",
      "\u001b[1m60/60\u001b[0m \u001b[32m━━━━━━━━━━━━━━━━━━━━\u001b[0m\u001b[37m\u001b[0m \u001b[1m0s\u001b[0m 4ms/step - loss: 0.3148 - mean_absolute_error: 0.3132 - val_loss: 0.3653 - val_mean_absolute_error: 0.3159\n",
      "Epoch 39/80\n",
      "\u001b[1m60/60\u001b[0m \u001b[32m━━━━━━━━━━━━━━━━━━━━\u001b[0m\u001b[37m\u001b[0m \u001b[1m0s\u001b[0m 4ms/step - loss: 0.3495 - mean_absolute_error: 0.3254 - val_loss: 0.3636 - val_mean_absolute_error: 0.3165\n",
      "Epoch 40/80\n",
      "\u001b[1m60/60\u001b[0m \u001b[32m━━━━━━━━━━━━━━━━━━━━\u001b[0m\u001b[37m\u001b[0m \u001b[1m0s\u001b[0m 4ms/step - loss: 0.3144 - mean_absolute_error: 0.3135 - val_loss: 0.3633 - val_mean_absolute_error: 0.3172\n",
      "Epoch 41/80\n",
      "\u001b[1m60/60\u001b[0m \u001b[32m━━━━━━━━━━━━━━━━━━━━\u001b[0m\u001b[37m\u001b[0m \u001b[1m0s\u001b[0m 4ms/step - loss: 0.3153 - mean_absolute_error: 0.3131 - val_loss: 0.3655 - val_mean_absolute_error: 0.3186\n",
      "Epoch 42/80\n",
      "\u001b[1m60/60\u001b[0m \u001b[32m━━━━━━━━━━━━━━━━━━━━\u001b[0m\u001b[37m\u001b[0m \u001b[1m0s\u001b[0m 4ms/step - loss: 0.3481 - mean_absolute_error: 0.3264 - val_loss: 0.3640 - val_mean_absolute_error: 0.3159\n",
      "Epoch 43/80\n",
      "\u001b[1m60/60\u001b[0m \u001b[32m━━━━━━━━━━━━━━━━━━━━\u001b[0m\u001b[37m\u001b[0m \u001b[1m0s\u001b[0m 4ms/step - loss: 0.3157 - mean_absolute_error: 0.3111 - val_loss: 0.3665 - val_mean_absolute_error: 0.3182\n",
      "Epoch 44/80\n",
      "\u001b[1m60/60\u001b[0m \u001b[32m━━━━━━━━━━━━━━━━━━━━\u001b[0m\u001b[37m\u001b[0m \u001b[1m0s\u001b[0m 4ms/step - loss: 0.3261 - mean_absolute_error: 0.3176 - val_loss: 0.3653 - val_mean_absolute_error: 0.3159\n",
      "Epoch 45/80\n",
      "\u001b[1m60/60\u001b[0m \u001b[32m━━━━━━━━━━━━━━━━━━━━\u001b[0m\u001b[37m\u001b[0m \u001b[1m0s\u001b[0m 4ms/step - loss: 0.3198 - mean_absolute_error: 0.3114 - val_loss: 0.3632 - val_mean_absolute_error: 0.3168\n",
      "Epoch 46/80\n",
      "\u001b[1m60/60\u001b[0m \u001b[32m━━━━━━━━━━━━━━━━━━━━\u001b[0m\u001b[37m\u001b[0m \u001b[1m0s\u001b[0m 4ms/step - loss: 0.3269 - mean_absolute_error: 0.3156 - val_loss: 0.3660 - val_mean_absolute_error: 0.3190\n",
      "Epoch 47/80\n",
      "\u001b[1m60/60\u001b[0m \u001b[32m━━━━━━━━━━━━━━━━━━━━\u001b[0m\u001b[37m\u001b[0m \u001b[1m0s\u001b[0m 4ms/step - loss: 0.3156 - mean_absolute_error: 0.3084 - val_loss: 0.3623 - val_mean_absolute_error: 0.3161\n",
      "Epoch 48/80\n",
      "\u001b[1m60/60\u001b[0m \u001b[32m━━━━━━━━━━━━━━━━━━━━\u001b[0m\u001b[37m\u001b[0m \u001b[1m0s\u001b[0m 4ms/step - loss: 0.3198 - mean_absolute_error: 0.3166 - val_loss: 0.3698 - val_mean_absolute_error: 0.3191\n",
      "Epoch 49/80\n",
      "\u001b[1m60/60\u001b[0m \u001b[32m━━━━━━━━━━━━━━━━━━━━\u001b[0m\u001b[37m\u001b[0m \u001b[1m0s\u001b[0m 4ms/step - loss: 0.2998 - mean_absolute_error: 0.3055 - val_loss: 0.3646 - val_mean_absolute_error: 0.3164\n",
      "Epoch 50/80\n",
      "\u001b[1m60/60\u001b[0m \u001b[32m━━━━━━━━━━━━━━━━━━━━\u001b[0m\u001b[37m\u001b[0m \u001b[1m0s\u001b[0m 4ms/step - loss: 0.3256 - mean_absolute_error: 0.3124 - val_loss: 0.3623 - val_mean_absolute_error: 0.3162\n",
      "Epoch 51/80\n",
      "\u001b[1m60/60\u001b[0m \u001b[32m━━━━━━━━━━━━━━━━━━━━\u001b[0m\u001b[37m\u001b[0m \u001b[1m0s\u001b[0m 4ms/step - loss: 0.3158 - mean_absolute_error: 0.3085 - val_loss: 0.3613 - val_mean_absolute_error: 0.3168\n",
      "Epoch 52/80\n",
      "\u001b[1m60/60\u001b[0m \u001b[32m━━━━━━━━━━━━━━━━━━━━\u001b[0m\u001b[37m\u001b[0m \u001b[1m0s\u001b[0m 4ms/step - loss: 0.3284 - mean_absolute_error: 0.3146 - val_loss: 0.3626 - val_mean_absolute_error: 0.3155\n",
      "Epoch 53/80\n",
      "\u001b[1m60/60\u001b[0m \u001b[32m━━━━━━━━━━━━━━━━━━━━\u001b[0m\u001b[37m\u001b[0m \u001b[1m0s\u001b[0m 4ms/step - loss: 0.3266 - mean_absolute_error: 0.3180 - val_loss: 0.3576 - val_mean_absolute_error: 0.3153\n",
      "Epoch 54/80\n",
      "\u001b[1m60/60\u001b[0m \u001b[32m━━━━━━━━━━━━━━━━━━━━\u001b[0m\u001b[37m\u001b[0m \u001b[1m0s\u001b[0m 4ms/step - loss: 0.2913 - mean_absolute_error: 0.3027 - val_loss: 0.3574 - val_mean_absolute_error: 0.3140\n",
      "Epoch 55/80\n",
      "\u001b[1m60/60\u001b[0m \u001b[32m━━━━━━━━━━━━━━━━━━━━\u001b[0m\u001b[37m\u001b[0m \u001b[1m0s\u001b[0m 4ms/step - loss: 0.3083 - mean_absolute_error: 0.3057 - val_loss: 0.3657 - val_mean_absolute_error: 0.3198\n",
      "Epoch 56/80\n",
      "\u001b[1m60/60\u001b[0m \u001b[32m━━━━━━━━━━━━━━━━━━━━\u001b[0m\u001b[37m\u001b[0m \u001b[1m0s\u001b[0m 5ms/step - loss: 0.3019 - mean_absolute_error: 0.3071 - val_loss: 0.3622 - val_mean_absolute_error: 0.3159\n",
      "Epoch 57/80\n",
      "\u001b[1m60/60\u001b[0m \u001b[32m━━━━━━━━━━━━━━━━━━━━\u001b[0m\u001b[37m\u001b[0m \u001b[1m0s\u001b[0m 4ms/step - loss: 0.3203 - mean_absolute_error: 0.3119 - val_loss: 0.3660 - val_mean_absolute_error: 0.3186\n",
      "Epoch 58/80\n",
      "\u001b[1m60/60\u001b[0m \u001b[32m━━━━━━━━━━━━━━━━━━━━\u001b[0m\u001b[37m\u001b[0m \u001b[1m0s\u001b[0m 4ms/step - loss: 0.3282 - mean_absolute_error: 0.3141 - val_loss: 0.3608 - val_mean_absolute_error: 0.3147\n",
      "Epoch 59/80\n",
      "\u001b[1m60/60\u001b[0m \u001b[32m━━━━━━━━━━━━━━━━━━━━\u001b[0m\u001b[37m\u001b[0m \u001b[1m0s\u001b[0m 4ms/step - loss: 0.2963 - mean_absolute_error: 0.3034 - val_loss: 0.3587 - val_mean_absolute_error: 0.3130\n"
     ]
    }
   ],
   "source": [
    "model = create_model()\n",
    "model.summary()\n",
    "\n",
    "model.compile(loss = 'mean_squared_error', \n",
    "              metrics = [\"mean_absolute_error\"], \n",
    "              optimizer = RMSprop(learning_rate=1e-4))\n",
    "\n",
    "callback = [EarlyStopping(monitor='val_loss', patience=5, mode='min')]\n",
    "epochs = 80\n",
    "hist = model.fit(train_atmos, train_opg, # training data\n",
    "                  batch_size = batch_size,\n",
    "                  epochs = epochs,                        # epochs\n",
    "                  validation_data = (val_atmos, val_opg), # validation data\n",
    "                  callbacks=[callback],                   # patience\n",
    "                  verbose = 1)                           # print progress"
   ]
  },
  {
   "cell_type": "markdown",
   "id": "066fb536-1df1-46aa-811a-791eb1b6c4f2",
   "metadata": {},
   "source": [
    "### Initial Evaluation of the CNN"
   ]
  },
  {
   "cell_type": "code",
   "execution_count": 17,
   "id": "8beaf6c2-7d3a-409f-bf07-13a98312a98d",
   "metadata": {},
   "outputs": [
    {
     "data": {
      "image/png": "[encoded data removed]",
      "text/plain": [
       "<Figure size 640x480 with 1 Axes>"
      ]
     },
     "metadata": {},
     "output_type": "display_data"
    },
    {
     "name": "stdout",
     "output_type": "stream",
     "text": [
      "\u001b[1m13/13\u001b[0m \u001b[32m━━━━━━━━━━━━━━━━━━━━\u001b[0m\u001b[37m\u001b[0m \u001b[1m0s\u001b[0m 6ms/step\n"
     ]
    },
    {
     "data": {
      "image/png": "[encoded data removed]",
      "text/plain": [
       "<Figure size 600x500 with 2 Axes>"
      ]
     },
     "metadata": {},
     "output_type": "display_data"
    }
   ],
   "source": [
    "def plot_loss(hist_obs):\n",
    "    plt.plot(hist_obs.history['loss'], label='train')\n",
    "    plt.plot(hist_obs.history['val_loss'], label='valid')\n",
    "    plt.xlabel(\"Epochs\")\n",
    "    plt.ylabel(\"Mean Squared Error\")\n",
    "    plt.ylim(bottom=0)\n",
    "    plt.grid(True)\n",
    "    plt.legend()\n",
    "    plt.show()\n",
    "\n",
    "def plot_act_pred(modelx, hist_obs):\n",
    "    # Using our fitted model, predict OPGs from the testing subset.\n",
    "    predicted = modelx.predict(test_atmos)\n",
    "\n",
    "    # set zero OPGs to nan\n",
    "    actual = test_opg\n",
    "    actual[actual==0] = np.nan\n",
    "    predicted[predicted==0] = np.nan\n",
    "    \n",
    "    # Convert from standardized OPG to mm/m OPG\n",
    "    actual    = (test_opg * opg_std) + opg_mean\n",
    "    predicted = (predicted * opg_std) + opg_mean\n",
    "    \n",
    "    # Since days without OPG observations are set to zero, lets reshape our OPGs and remove zero OPG days\n",
    "    actual    = np.reshape(actual, -1)\n",
    "    predicted = np.reshape(predicted, -1)\n",
    "    idx       = np.isnan(actual) # Identify days with OPG observations\n",
    "    actual    = actual[idx==False]\n",
    "    predicted = predicted[idx==False]\n",
    "    \n",
    "    # Formulate the x and y axis limits\n",
    "    max_val = np.max((np.max(predicted[:]), np.max(actual[:])))\n",
    "    min_val = np.min((np.min(predicted[:]), np.min(actual[:])))\n",
    "    max_val = 0.05\n",
    "    min_val = -0.05\n",
    "    \n",
    "    # Define plot colormap\n",
    "    cmap_gnuplot2 = ncm.cmap(\"MPL_gnuplot2\")\n",
    "    \n",
    "    # Define label sizes\n",
    "    label_size = 16\n",
    "    tick_size = 14\n",
    "    \n",
    "    # Create Figure\n",
    "    plt.figure(figsize=(6, 5))\n",
    "    \n",
    "    # Formulate the heatmap variables\n",
    "    heatmap, xedges, yedges = np.histogram2d(np.reshape(actual, -1), np.reshape(predicted, -1), bins=100,\n",
    "                                 range=[[min_val, max_val],[min_val, max_val]])\n",
    "    extent = [xedges[0], xedges[-1], yedges[0], yedges[-1]]\n",
    "    \n",
    "    # Plot heatmap\n",
    "    plt.imshow(heatmap.T, extent=extent, origin='lower', cmap=cmap_gnuplot2, norm=colors.LogNorm())\n",
    "\n",
    "    # Plot One-to-one line\n",
    "    plt.plot([xedges[0], xedges[-1]], [yedges[0], yedges[-1]], c='red')\n",
    "    \n",
    "    # corr\n",
    "    corr = np.round(np.corrcoef(actual, predicted)[0,1]**2 , 2)\n",
    "    last_mse = np.round(hist_obs.history['val_loss'][-1], 2)\n",
    "    \n",
    "    # Add labels, gridlines, and colorbar\n",
    "    plt.xlabel(\"Actual\", fontsize=label_size)\n",
    "    plt.ylabel(\"Predicted\", fontsize=label_size)\n",
    "    plt.title(\"r^2 = \" + str(corr) + \", Error = \" + str(last_mse))\n",
    "    plt.grid(True)\n",
    "    plt.colorbar()\n",
    "\n",
    "\n",
    "plot_loss(hist)\n",
    "plot_act_pred(model, hist)"
   ]
  },
  {
   "cell_type": "markdown",
   "id": "d832cddd-05aa-4c41-89e4-97ddfad56a9b",
   "metadata": {},
   "source": [
    "# should say some stuff about the output here"
   ]
  },
  {
   "cell_type": "markdown",
   "id": "e8a28a07-0147-47a7-8169-96fe1c56788a",
   "metadata": {},
   "source": [
    "### Convolutional Layers"
   ]
  },
  {
   "cell_type": "markdown",
   "id": "57256ccb-e0fc-4034-b615-6cc39c84a8d1",
   "metadata": {},
   "source": [
    "##### First, let's take a look at the convolutional layers of the the same days we looked at in CIROH_Datasets"
   ]
  },
  {
   "cell_type": "code",
   "execution_count": 23,
   "id": "31126e73-7cb5-41ae-8af2-0bb8e11f5418",
   "metadata": {},
   "outputs": [
    {
     "data": {
      "text/plain": [
       "(6, 19, 27, 6)"
      ]
     },
     "execution_count": 23,
     "metadata": {},
     "output_type": "execute_result"
    }
   ],
   "source": [
    "dates = [\"1996-02-18\", \"1996-02-23\"]\n",
    "\n",
    "IVT_       = IVT.sel(time=slice(dates[0], dates[1]))\n",
    "precip_    = precip.sel(time=slice(dates[0], dates[1]))\n",
    "temp700_   = temp700.sel(time=slice(dates[0], dates[1]))\n",
    "uwinds700_ = uwinds700.sel(time=slice(dates[0], dates[1]))\n",
    "vwinds700_ = vwinds700.sel(time=slice(dates[0], dates[1]))\n",
    "hgt500_    = hgt500.sel(time=slice(dates[0], dates[1]))\n",
    "\n",
    "# Combine the atmospheric data into one array\n",
    "atmos_subset = np.concatenate((IVT_.IVT.values[...,np.newaxis], \n",
    "                                precip_.precip.values[...,np.newaxis],\n",
    "                                temp700_.temp.values[...,np.newaxis],\n",
    "                                uwinds700_.uwnd.values[...,np.newaxis],\n",
    "                                vwinds700_.vwnd.values[...,np.newaxis],\n",
    "                                hgt500_.hgt.values[...,np.newaxis]), axis=3)\n",
    "\n",
    "np.shape(atmos_subset)"
   ]
  },
  {
   "cell_type": "code",
   "execution_count": 41,
   "id": "b2642ca1-eb2c-47e0-a633-cf34b115e41e",
   "metadata": {},
   "outputs": [
    {
     "name": "stdout",
     "output_type": "stream",
     "text": [
      "[<Conv2D name=conv2D_01, built=True>, <MaxPooling2D name=max_pooling2d_4, built=True>, <Conv2D name=conv2D_02, built=True>, <BatchNormalization name=batch_normalization_2, built=True>, <MaxPooling2D name=max_pooling2d_5, built=True>, <Dropout name=dropout_4, built=True>, <Flatten name=flatten_2, built=True>, <Dense name=dense_6, built=True>, <Dense name=dense_7, built=True>, <Dropout name=dropout_5, built=True>, <Dense name=dense_8, built=True>]\n"
     ]
    }
   ],
   "source": [
    "print(model.layers)"
   ]
  },
  {
   "cell_type": "code",
   "execution_count": 72,
   "id": "b5cbebba-d602-45b9-9715-fab3334930f1",
   "metadata": {},
   "outputs": [
    {
     "name": "stdout",
     "output_type": "stream",
     "text": [
      "-0.5317957\n",
      "[36.  36.5 37.  37.5 38.  38.5 39.  39.5 40.  40.5 41.  41.5 42.  42.5\n",
      " 43.  43.5 44.  44.5 45. ]\n"
     ]
    },
    {
     "data": {
      "image/png": "[encoded data removed]",
      "text/plain": [
       "<Figure size 3200x800 with 16 Axes>"
      ]
     },
     "metadata": {},
     "output_type": "display_data"
    },
    {
     "name": "stdout",
     "output_type": "stream",
     "text": [
      "-0.7474324\n",
      "[36.    37.125 38.25  39.375 40.5   41.625 42.75  43.875 45.   ]\n"
     ]
    },
    {
     "data": {
      "image/png": "[encoded data removed]",
      "text/plain": [
       "<Figure size 3200x1600 with 32 Axes>"
      ]
     },
     "metadata": {},
     "output_type": "display_data"
    }
   ],
   "source": [
    "cmap_feat = ncm.cmap('NCV_blu_red')\n",
    "extent = [-119, -106, 36, 45]\n",
    "\n",
    "for lx in range(len(model.layers)):\n",
    "    layer = model.layers[lx]\n",
    "    if 'conv' not in layer.name:\n",
    "        continue\n",
    "\n",
    "    inputs = [atmos_subset[[0],:,:,:]]\n",
    "\n",
    "    # Create a model that takes the input image and outputs the first\n",
    "    # convolutional layer\n",
    "    feat_model = tf.keras.models.Model(model.inputs, [model.get_layer(layer.name).output])\n",
    "\n",
    "    # Then compute the gradient of the top predicted class for our\n",
    "    # input image with resepct to the activations of the layer\n",
    "    LAYER = feat_model(inputs)\n",
    "    LAYER = (LAYER - np.mean(LAYER)) / np.std(LAYER)\n",
    "\n",
    "    print(np.min(LAYER))\n",
    "    \n",
    "    # pull plotting axis values\n",
    "    lats = np.linspace(np.min(latitudes), np.max(latitudes), \n",
    "                       num=np.shape(LAYER)[1], endpoint=True)\n",
    "    print(lats)\n",
    "    lons = np.linspace(np.min(longitudes), np.max(longitudes), \n",
    "                       num=np.shape(LAYER)[2], endpoint=True)\n",
    "    loni, lati = np.meshgrid(lons, lats)\n",
    "\n",
    "    # find size of figure\n",
    "    x_axis = 8\n",
    "    y_axis = np.ceil(np.shape(LAYER)[3]/x_axis).astype('int')\n",
    "\n",
    "    # Plot Transforms\n",
    "    datacrs = ccrs.PlateCarree()\n",
    "    projex = ccrs.Mercator(central_longitude=np.mean(lons))\n",
    "\n",
    "    # new figure like michaels\n",
    "    fig, ax = plt.subplots(nrows=y_axis, ncols=x_axis,\n",
    "                           figsize=(x_axis*4, y_axis*4),\n",
    "                           subplot_kw={'projection': projex})\n",
    "\n",
    "    ax_count = 0\n",
    "    for row in range(y_axis):\n",
    "        for col in range(x_axis):\n",
    "            if ax_count < np.shape(LAYER)[3]:\n",
    "                # Add Feature Map                    \n",
    "                ax[row, col].pcolor(loni, lati, np.squeeze(\n",
    "                                LAYER[:, :, :, ax_count]), clim=[-1, 4],\n",
    "                                zorder=1, cmap='gray', transform=datacrs)\n",
    "                ax[row, col].set_extent(extent)\n",
    "\n",
    "                \n",
    "                ax_count += 1\n",
    "\n",
    "            elif ax_count >= np.shape(LAYER)[3]:\n",
    "                ax[row, col].axis('off')\n",
    "\n",
    "    plt.subplots_adjust(wspace=0.01, hspace=0.01)\n",
    "    plt.show()"
   ]
  },
  {
   "cell_type": "code",
   "execution_count": null,
   "id": "6f3c41cc-b676-4a61-ae7c-d6fd598cf840",
   "metadata": {},
   "outputs": [],
   "source": []
  },
  {
   "cell_type": "code",
   "execution_count": null,
   "id": "35caf2a3-03b6-422c-a085-1ce77ce92f42",
   "metadata": {},
   "outputs": [],
   "source": []
  },
  {
   "cell_type": "code",
   "execution_count": 19,
   "id": "dbfaab53-4496-4456-92ce-c5a24d5c59a2",
   "metadata": {},
   "outputs": [
    {
     "ename": "ValueError",
     "evalue": "The layer sequential_2 has never been called and thus has no defined input.",
     "output_type": "error",
     "traceback": [
      "\u001b[1;31m---------------------------------------------------------------------------\u001b[0m",
      "\u001b[1;31mValueError\u001b[0m                                Traceback (most recent call last)",
      "Cell \u001b[1;32mIn[19], line 2\u001b[0m\n\u001b[0;32m      1\u001b[0m \u001b[38;5;66;03m# Remove the classification layer to get features\u001b[39;00m\n\u001b[1;32m----> 2\u001b[0m feature_extractor \u001b[38;5;241m=\u001b[39m tf\u001b[38;5;241m.\u001b[39mkeras\u001b[38;5;241m.\u001b[39mmodels\u001b[38;5;241m.\u001b[39mModel(inputs\u001b[38;5;241m=\u001b[39m[model\u001b[38;5;241m.\u001b[39minput], outputs\u001b[38;5;241m=\u001b[39m[model\u001b[38;5;241m.\u001b[39mget_layer(\u001b[38;5;124m'\u001b[39m\u001b[38;5;124mconv2d_02\u001b[39m\u001b[38;5;124m'\u001b[39m)\u001b[38;5;241m.\u001b[39moutput])\n\u001b[0;32m      4\u001b[0m \u001b[38;5;66;03m# Get the features by passing the image through the network\u001b[39;00m\n\u001b[0;32m      5\u001b[0m features \u001b[38;5;241m=\u001b[39m feature_extractor\u001b[38;5;241m.\u001b[39mpredict(atmos_subset)\n",
      "File \u001b[1;32mC:\\Python\\Anaconda3\\3.8\\envs\\ciroh\\Lib\\site-packages\\keras\\src\\ops\\operation.py:228\u001b[0m, in \u001b[0;36mOperation.input\u001b[1;34m(self)\u001b[0m\n\u001b[0;32m    218\u001b[0m \u001b[38;5;129m@property\u001b[39m\n\u001b[0;32m    219\u001b[0m \u001b[38;5;28;01mdef\u001b[39;00m \u001b[38;5;21minput\u001b[39m(\u001b[38;5;28mself\u001b[39m):\n\u001b[0;32m    220\u001b[0m \u001b[38;5;250m    \u001b[39m\u001b[38;5;124;03m\"\"\"Retrieves the input tensor(s) of a symbolic operation.\u001b[39;00m\n\u001b[0;32m    221\u001b[0m \n\u001b[0;32m    222\u001b[0m \u001b[38;5;124;03m    Only returns the tensor(s) corresponding to the *first time*\u001b[39;00m\n\u001b[1;32m   (...)\u001b[0m\n\u001b[0;32m    226\u001b[0m \u001b[38;5;124;03m        Input tensor or list of input tensors.\u001b[39;00m\n\u001b[0;32m    227\u001b[0m \u001b[38;5;124;03m    \"\"\"\u001b[39;00m\n\u001b[1;32m--> 228\u001b[0m     \u001b[38;5;28;01mreturn\u001b[39;00m \u001b[38;5;28mself\u001b[39m\u001b[38;5;241m.\u001b[39m_get_node_attribute_at_index(\u001b[38;5;241m0\u001b[39m, \u001b[38;5;124m\"\u001b[39m\u001b[38;5;124minput_tensors\u001b[39m\u001b[38;5;124m\"\u001b[39m, \u001b[38;5;124m\"\u001b[39m\u001b[38;5;124minput\u001b[39m\u001b[38;5;124m\"\u001b[39m)\n",
      "File \u001b[1;32mC:\\Python\\Anaconda3\\3.8\\envs\\ciroh\\Lib\\site-packages\\keras\\src\\ops\\operation.py:259\u001b[0m, in \u001b[0;36mOperation._get_node_attribute_at_index\u001b[1;34m(self, node_index, attr, attr_name)\u001b[0m\n\u001b[0;32m    243\u001b[0m \u001b[38;5;250m\u001b[39m\u001b[38;5;124;03m\"\"\"Private utility to retrieves an attribute (e.g. inputs) from a node.\u001b[39;00m\n\u001b[0;32m    244\u001b[0m \n\u001b[0;32m    245\u001b[0m \u001b[38;5;124;03mThis is used to implement the properties:\u001b[39;00m\n\u001b[1;32m   (...)\u001b[0m\n\u001b[0;32m    256\u001b[0m \u001b[38;5;124;03m    The operation's attribute `attr` at the node of index `node_index`.\u001b[39;00m\n\u001b[0;32m    257\u001b[0m \u001b[38;5;124;03m\"\"\"\u001b[39;00m\n\u001b[0;32m    258\u001b[0m \u001b[38;5;28;01mif\u001b[39;00m \u001b[38;5;129;01mnot\u001b[39;00m \u001b[38;5;28mself\u001b[39m\u001b[38;5;241m.\u001b[39m_inbound_nodes:\n\u001b[1;32m--> 259\u001b[0m     \u001b[38;5;28;01mraise\u001b[39;00m \u001b[38;5;167;01mValueError\u001b[39;00m(\n\u001b[0;32m    260\u001b[0m         \u001b[38;5;124mf\u001b[39m\u001b[38;5;124m\"\u001b[39m\u001b[38;5;124mThe layer \u001b[39m\u001b[38;5;132;01m{\u001b[39;00m\u001b[38;5;28mself\u001b[39m\u001b[38;5;241m.\u001b[39mname\u001b[38;5;132;01m}\u001b[39;00m\u001b[38;5;124m has never been called \u001b[39m\u001b[38;5;124m\"\u001b[39m\n\u001b[0;32m    261\u001b[0m         \u001b[38;5;124mf\u001b[39m\u001b[38;5;124m\"\u001b[39m\u001b[38;5;124mand thus has no defined \u001b[39m\u001b[38;5;132;01m{\u001b[39;00mattr_name\u001b[38;5;132;01m}\u001b[39;00m\u001b[38;5;124m.\u001b[39m\u001b[38;5;124m\"\u001b[39m\n\u001b[0;32m    262\u001b[0m     )\n\u001b[0;32m    263\u001b[0m \u001b[38;5;28;01mif\u001b[39;00m \u001b[38;5;129;01mnot\u001b[39;00m \u001b[38;5;28mlen\u001b[39m(\u001b[38;5;28mself\u001b[39m\u001b[38;5;241m.\u001b[39m_inbound_nodes) \u001b[38;5;241m>\u001b[39m node_index:\n\u001b[0;32m    264\u001b[0m     \u001b[38;5;28;01mraise\u001b[39;00m \u001b[38;5;167;01mValueError\u001b[39;00m(\n\u001b[0;32m    265\u001b[0m         \u001b[38;5;124mf\u001b[39m\u001b[38;5;124m\"\u001b[39m\u001b[38;5;124mAsked to get \u001b[39m\u001b[38;5;132;01m{\u001b[39;00mattr_name\u001b[38;5;132;01m}\u001b[39;00m\u001b[38;5;124m at node \u001b[39m\u001b[38;5;124m\"\u001b[39m\n\u001b[0;32m    266\u001b[0m         \u001b[38;5;124mf\u001b[39m\u001b[38;5;124m\"\u001b[39m\u001b[38;5;132;01m{\u001b[39;00mnode_index\u001b[38;5;132;01m}\u001b[39;00m\u001b[38;5;124m, but the operation has only \u001b[39m\u001b[38;5;124m\"\u001b[39m\n\u001b[0;32m    267\u001b[0m         \u001b[38;5;124mf\u001b[39m\u001b[38;5;124m\"\u001b[39m\u001b[38;5;132;01m{\u001b[39;00m\u001b[38;5;28mlen\u001b[39m(\u001b[38;5;28mself\u001b[39m\u001b[38;5;241m.\u001b[39m_inbound_nodes)\u001b[38;5;132;01m}\u001b[39;00m\u001b[38;5;124m inbound nodes.\u001b[39m\u001b[38;5;124m\"\u001b[39m\n\u001b[0;32m    268\u001b[0m     )\n",
      "\u001b[1;31mValueError\u001b[0m: The layer sequential_2 has never been called and thus has no defined input."
     ]
    }
   ],
   "source": [
    "# Remove the classification layer to get features\n",
    "feature_extractor = tf.keras.models.Model(inputs=[model.input], outputs=[model.get_layer('conv2d_02').output])\n",
    "\n",
    "# Get the features by passing the image through the network\n",
    "features = feature_extractor.predict(atmos_subset)\n",
    "\n",
    "print(np.shape(features))\n",
    "\n",
    "# Plot the activations of the last convolutional layer\n",
    "plt.figure(figsize=(10, 10))\n",
    "for i in range(64):  # Assuming 64 filters in the last convolutional layer\n",
    "    plt.subplot(8, 8, i+1)\n",
    "    plt.imshow(features[0, :, :, i], cmap='viridis')\n",
    "    plt.axis('off')\n",
    "plt.show()"
   ]
  },
  {
   "cell_type": "markdown",
   "id": "f4df03eb-c7bc-4bf4-ba03-3804043c55fe",
   "metadata": {},
   "source": [
    "### Grad-CAM"
   ]
  },
  {
   "cell_type": "code",
   "execution_count": null,
   "id": "2b637360-1bcc-4698-a2c6-8f1a61e31204",
   "metadata": {},
   "outputs": [],
   "source": [
    "dates = [\"1996-02-18\", \"1996-02-23\"]"
   ]
  },
  {
   "cell_type": "code",
   "execution_count": null,
   "id": "58c258a6-8407-4de0-ad69-753a8dd77b4f",
   "metadata": {},
   "outputs": [],
   "source": [
    "# Calculate Size of Data\n",
    "atm_sz = dict(atmos.sizes)\n",
    "opg_sz = dict(opg.sizes)\n",
    "atmos_names = np.array(atmos.data_vars)\n",
    "count_channels = 0\n",
    "count_on_facet = 0\n",
    "for ii in atmos.values():\n",
    "    if len(ii.dims) == 3:\n",
    "        count_channels += 1\n",
    "    elif len(ii.dims) == 2:\n",
    "        count_on_facet += 1\n",
    "        atmos_names = np.delete(\n",
    "            atmos_names, np.argmax(ii.name == atmos_names))\n",
    "\n",
    "# pull plotting axis values\n",
    "lons = np.array(atmos['lon'])\n",
    "lats = np.array(atmos['lat'])\n",
    "date = atmos['time']\n",
    "loni, lati = np.meshgrid(lons, lats)\n",
    "\n",
    "# find size of figure\n",
    "x_axis = np.round(np.sqrt(count_channels+1)).astype('int')\n",
    "y_axis = np.ceil(np.sqrt(count_channels+1)).astype('int')\n",
    "\n",
    "# load regional location\n",
    "rgn_bnds = opg.attrs['bounds']\n",
    "rgn_lons = [rgn_bnds[2], rgn_bnds[2],\n",
    "            rgn_bnds[3], rgn_bnds[3], rgn_bnds[2]]\n",
    "rgn_lats = [rgn_bnds[0], rgn_bnds[1],\n",
    "            rgn_bnds[1], rgn_bnds[0], rgn_bnds[0]]\n",
    "\n",
    "# pull list of OPG values\n",
    "opg_values = np.array(opg['opg'])\n",
    "\n",
    "# Plot Presets\n",
    "edges = [-15, 15]\n",
    "step = 1.5\n",
    "x_ticks = [-15, -10, -5, 0, 5, 10, 15]\n",
    "x_tick_labels = [\"\", \"-10\", \"\", \"0\", \"\", \"10\", \"\"]\n",
    "units = \" (mm/km)\"\n",
    "max_count = 35\n",
    "aspect = 0.6\n",
    "shift = 1\n",
    "\n",
    "# preset values\n",
    "cmap_atmos = ncm.cmap('NCV_blu_red')\n",
    "\n",
    "extent = [-150, -100, 25, 57.5]\n",
    "\n",
    "# loop through each day\n",
    "for dayx in range(0, atm_sz['time']):\n",
    "    if np.sum(np.abs(opg_values[dayx, :] > 0)) > 0:\n",
    "        # pull values from that day\n",
    "        # Create Empty Array for Testing Data\n",
    "        atmos_test_4D_X = np.zeros(\n",
    "            (1, atm_sz['lat'], atm_sz['lon'], count_channels))\n",
    "        atmos_test_OF_X = np.zeros((1, opg_sz['facet_num']*count_on_facet))\n",
    "\n",
    "        # Pull Variables for Testing\n",
    "        count_4D = 0\n",
    "        count_OF = 0\n",
    "        for var_name, values in atmos.items():\n",
    "            if len(values.dims) == 3:\n",
    "                atmos_test_4D_X[:, :, :, count_4D] = np.array(\n",
    "                    values[dayx, :, :])\n",
    "                count_4D += 1\n",
    "            elif len(values.dims) == 2:\n",
    "                atmos_test_OF_X[:, opg_sz['facet_num']*count_OF:opg_sz['facet_num']\n",
    "                                * (count_OF+1)] = np.array(values[dayx, :])\n",
    "                count_OF += 1\n",
    "\n",
    "        # Combine Inputs if On-Facet Data Exists\n",
    "        if count_on_facet > 0:\n",
    "            inputs = [atmos_test_4D_X, atmos_test_OF_X]\n",
    "        else:\n",
    "            inputs = [atmos_test_4D_X]\n",
    "\n",
    "        # SECOND ATTEMPT\n",
    "        heatmap = []\n",
    "\n",
    "        for output_node in range(opg_sz['facet_num']):\n",
    "            # Create a model that takes the input image and outputs the last\n",
    "            # convolutional layer and the output predictions\n",
    "            grad_model = tf.keras.models.Model([model.inputs],\n",
    "                                               [model.get_layer('conv2d_2').output, model.output])\n",
    "\n",
    "            # Then compute the gradient of the top predicted class for our\n",
    "            # input image with resepct to the activations of the last conv layer\n",
    "            with tf.GradientTape() as tape:\n",
    "                last_conv_layer_output, preds = grad_model(inputs)\n",
    "                class_channel = preds[:, output_node]\n",
    "\n",
    "            # This is the gradient of the output neuron with regard to the\n",
    "            # output feature map of the last conv layer\n",
    "            grads = tape.gradient(class_channel, last_conv_layer_output)\n",
    "\n",
    "            # Formulates the mean gradient of each feature map, how important is each feature map?\n",
    "            pooled_grads = tf.reduce_mean(grads, axis=(0, 1, 2))\n",
    "\n",
    "            # Reduce to 3 dimentions\n",
    "            last_conv_layer_output = last_conv_layer_output[0]\n",
    "\n",
    "            # Multiply each channel of the feature map by how important it is\n",
    "            heatmapx = last_conv_layer_output @ pooled_grads[..., tf.newaxis]\n",
    "\n",
    "            # Reduce dimentions\n",
    "            heatmap.append(np.array(heatmapx))\n",
    "\n",
    "        heatmap = np.concatenate(heatmap, axis=2)  # combine all maps\n",
    "        heatmap = np.max(heatmap, axis=2) # create max of all maps\n",
    "        # create percentile of all maps\n",
    "        # heatmap = np.percentile(heatmap, 90, axis=2)\n",
    "\n",
    "        heatmap = heatmap / np.max(heatmap[:])  # Scale to max of 1\n",
    "        heatmap[heatmap < 0] = 0  # Remove all the negative values\n",
    "\n",
    "        # interpolate the heatmap grid\n",
    "        heatmap_size = np.shape(heatmap)\n",
    "        heatmap_lat = np.linspace(\n",
    "            np.min(lats), np.max(lats), num=heatmap_size[0])\n",
    "        heatmap_lon = np.linspace(\n",
    "            np.min(lons), np.max(lons), num=heatmap_size[1])\n",
    "        h_lon, h_lat = np.meshgrid(heatmap_lon, heatmap_lat)\n",
    "\n",
    "        # pull atmosphere\n",
    "        atmos_data = np.squeeze(inputs[0])\n",
    "\n",
    "        ###### plot heatmap   ##################################\n",
    "        datacrs = ccrs.PlateCarree()\n",
    "        projex = ccrs.Mercator(central_longitude=np.mean(lons))\n",
    "        chnnl = 0\n",
    "\n",
    "        # create predicted values, convert values of non-units to mm/km\n",
    "        pred = model.predict(inputs)\n",
    "        if opg_type == 1:\n",
    "            pred = pp_cnn.standardized_to_raw(pred, opg) * 1000\n",
    "        elif opg_type == 2:\n",
    "            pred = pp_cnn.normalized_to_raw(pred, opg) * 1000\n",
    "\n",
    "        # new figure like michaels\n",
    "        fig, ax = plt.subplots(nrows=y_axis, ncols=x_axis,\n",
    "                               figsize=(x_axis*4, y_axis*4),\n",
    "                               subplot_kw={'projection': projex})\n",
    "\n",
    "        ax_count = 1\n",
    "        for row in range(y_axis):\n",
    "            for col in range(x_axis):\n",
    "\n",
    "                if ax_count == 1:\n",
    "                    # Calc Error\n",
    "                    if opg_type == 0:\n",
    "                        error = (opg_values[dayx, :] - pred[0, :]) * 1000\n",
    "                    else:\n",
    "                        idx = opg_values[dayx, :] != 0\n",
    "                        error = (opg_values[dayx, idx] - pred[0, idx])\n",
    "\n",
    "                    me = np.mean(error)\n",
    "\n",
    "                    # Plot Histogram\n",
    "\n",
    "                    lower = np.sum(error < edges[0])\n",
    "                    upper = np.sum(error > edges[1])\n",
    "                    n, bins, patches = ax[row, col].hist(error,\n",
    "                                                         bins=np.arange(\n",
    "                                                             edges[0]-step, edges[1]+step+step, step),\n",
    "                                                         edgecolor=\"white\")\n",
    "                    ax[row, col].set(xlim=(edges[0]-step, edges[1]+step),\n",
    "                                     ylim=(0, max_count),\n",
    "                                     xticks=x_ticks,\n",
    "                                     xticklabels=x_tick_labels,\n",
    "                                     yticks=range(0, max_count+1, 10))\n",
    "\n",
    "                    # Add Outliers\n",
    "                    patches[0].set_height(patches[0].get_height() + lower)\n",
    "                    patches[0].set_facecolor('k')\n",
    "                    patches[-1].set_height(patches[-1].get_height() + upper)\n",
    "                    patches[-1].set_facecolor('k')\n",
    "\n",
    "                    # Plot mean error\n",
    "                    ax[row, col].plot([me, me], [0, 80], c='red')\n",
    "                    if me > 0:\n",
    "                        ax[row, col].text(me-shift, max_count-8,\n",
    "                                          \"Mean Error:\"+\"\\n\" +\n",
    "                                          str(np.round(me, decimals=2))+units,\n",
    "                                          c='red', fontsize=12, horizontalalignment='right')\n",
    "                    else:\n",
    "                        ax[row, col].text(me+shift, max_count-8,\n",
    "                                          \"Mean Error:\"+\"\\n\" +\n",
    "                                          str(np.round(me, decimals=2))+units,\n",
    "                                          c='red', fontsize=12, horizontalalignment='left')\n",
    "\n",
    "                    # Plot settings\n",
    "                    ax[row, col].set_aspect(aspect)\n",
    "                    ax[row, col].set_title(\"OPG Prediction Error\",\n",
    "                                           fontsize=14, weight='bold')\n",
    "                    ax[row, col].grid(True)\n",
    "                    ax[row, col].set_ylabel(\"Count of Facets\", fontsize=12)\n",
    "                    ax[row, col].set_xlabel(\"Error\"+units, fontsize=12)\n",
    "                    ax[row, col].tick_params(labelsize=12)\n",
    "\n",
    "                elif ax_count > (count_channels+1):\n",
    "                    ax[row, col].axis('off')\n",
    "\n",
    "                else:\n",
    "\n",
    "                    # Add Z-Scored Atmospheric Data\n",
    "                    atmos_plot = ax[row, col].contourf(loni, lati,\n",
    "                                                        np.squeeze(\n",
    "                                                            atmos_data[:, :, chnnl]),\n",
    "                                                        cmap=cmap_atmos,\n",
    "                                                        zorder=1,\n",
    "                                                        levels=np.arange(-6, 6.5, 0.5),\n",
    "                                                        transform=datacrs, extend='both')\n",
    "\n",
    "                    # Cartography Features\n",
    "                    states_provinces = cfeat.NaturalEarthFeature(\n",
    "                                            category='cultural',\n",
    "                                            name='admin_1_states_provinces_lines',\n",
    "                                            scale='50m', facecolor='none')\n",
    "                    ax[row, col].add_feature(cfeat.COASTLINE.with_scale(\n",
    "                        '110m'), zorder=2, edgecolor=\"saddlebrown\")\n",
    "                    ax[row, col].add_feature(cfeat.BORDERS.with_scale(\n",
    "                        '110m'), zorder=3, edgecolor=\"saddlebrown\")\n",
    "                    ax[row, col].add_feature(states_provinces, \n",
    "                                 zorder=4, edgecolor=\"saddlebrown\")\n",
    "                    ax[row, col].set_extent(extent)\n",
    "\n",
    "                    # Add Regional Location\n",
    "                    ax[row, col].plot(rgn_lons, rgn_lats, linewidth=2,\n",
    "                                      c='black', zorder=5, transform=datacrs)\n",
    "\n",
    "                    # Add importance of the atmos data and layer over\n",
    "                    hx = heatmap.copy()*100\n",
    "                    hatch = ax[row, col].contourf(h_lon, h_lat, hx, colors='none',\n",
    "                                          zorder=6, transform=datacrs,\n",
    "                                          hatches=[None, '..', 'oo','OO'], \n",
    "                                          levels=[0, 25, 50, 75, 100])\n",
    "\n",
    "                    # Add Title\n",
    "                    ax[row, col].set_title(rename_title(atmos_names[chnnl]),\n",
    "                                           fontsize=14,\n",
    "                                           weight='bold')\n",
    "\n",
    "                    # Add To Channel Count Value\n",
    "                    chnnl += 1\n",
    "\n",
    "                ax_count += 1\n",
    "\n",
    "        # Adjust Spacing\n",
    "        #plt.subplots_adjust(wspace=0.25, hspace=0.25)\n",
    "        \n",
    "        # Add percentage that are above 80%\n",
    "        prct = str(np.round((np.sum(heatmap > 0.50) / heatmap.size)*100, decimals=1))\n",
    "        fig.supxlabel(f\"{prct}% of Domain is >50%\", x=0.93, y=0.09, horizontalalignment=\"right\")\n",
    "        \n",
    "        # Add Colorbar for Atmos\n",
    "        cbar_atmos = fig.add_axes([0.93, 0.35, 0.03, 0.55])\n",
    "        cb_at = fig.colorbar(atmos_plot, cax=cbar_atmos, ticks=np.arange(-6,8,2),\n",
    "                              pad=0.0, aspect=15, fraction=0.032)\n",
    "        cb_at.set_label('Z-Score of Atmospheric Data', size=16)\n",
    "        cb_at.ax.tick_params(labelsize=16)\n",
    "\n",
    "        # Add Colorbar for Hatching\n",
    "        cbar_cam = fig.add_axes([0.93, 0.12, 0.03, 0.2])\n",
    "        cb_cam = fig.colorbar(hatch, cax=cbar_cam,\n",
    "                              pad=0.0, aspect=15, fraction=0.032)\n",
    "        cb_cam.set_label(\"Max. Grad-CAM (%)\", size=16)\n",
    "        cb_cam.ax.tick_params(labelsize=16)\n",
    "        \n",
    "        # Add Title with Date and Actual/Predicted Values\n",
    "        df = np.array(date[dayx], dtype='str')\n",
    "        df = str(df)\n",
    "        plt.suptitle(df[0:10], fontsize=18, y=0.93, weight='bold')\n",
    "\n",
    "        # create path to save\n",
    "        path = save_dir + \"activ_map/\"\n",
    "        if os.path.exists(path) == False:\n",
    "            os.mkdir(path)\n",
    "\n",
    "        plt.savefig(path + df[0:10] + \"_\" + name + \".png\", dpi=400, transparent=True,\n",
    "                    bbox_inches='tight')\n",
    "\n",
    "        plt.close()\n",
    "        \n",
    "        # Show Figure\n",
    "        # plt.show()"
   ]
  },
  {
   "cell_type": "markdown",
   "id": "f52c98e7-21f4-4292-a21d-ee2ab74f3a20",
   "metadata": {},
   "source": [
    "### Downscaling"
   ]
  },
  {
   "cell_type": "code",
   "execution_count": null,
   "id": "2d00b00b-e612-450a-a448-79eb1deab638",
   "metadata": {},
   "outputs": [],
   "source": []
  }
 ],
 "metadata": {
  "kernelspec": {
   "display_name": "Python 3 (ipykernel)",
   "language": "python",
   "name": "python3"
  },
  "language_info": {
   "codemirror_mode": {
    "name": "ipython",
    "version": 3
   },
   "file_extension": ".py",
   "mimetype": "text/x-python",
   "name": "python",
   "nbconvert_exporter": "python",
   "pygments_lexer": "ipython3",
   "version": "3.11.2"
  }
 },
 "nbformat": 4,
 "nbformat_minor": 5
}
